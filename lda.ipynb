{
 "metadata": {
  "language_info": {
   "codemirror_mode": {
    "name": "ipython",
    "version": 3
   },
   "file_extension": ".py",
   "mimetype": "text/x-python",
   "name": "python",
   "nbconvert_exporter": "python",
   "pygments_lexer": "ipython3",
   "version": "3.9.2"
  },
  "orig_nbformat": 2,
  "kernelspec": {
   "name": "pythonjvsc74a57bd0b8f6c780520b3a2223f94b05dfb66954813f1093502025e1d2255853062156d1",
   "display_name": "Python 3.9.2  ('.venv': venv)"
  },
  "metadata": {
   "interpreter": {
    "hash": "b8f6c780520b3a2223f94b05dfb66954813f1093502025e1d2255853062156d1"
   }
  }
 },
 "nbformat": 4,
 "nbformat_minor": 2,
 "cells": [
  {
   "source": [
    "### Импорты"
   ],
   "cell_type": "markdown",
   "metadata": {}
  },
  {
   "cell_type": "code",
   "execution_count": 1,
   "metadata": {},
   "outputs": [],
   "source": [
    "from LDANewsModel import LDANewsModel\n",
    "from pyspark import SparkContext\n",
    "from pyspark.sql import DataFrame, SparkSession\n",
    "\n",
    "import matplotlib.pyplot as plt\n",
    "import pandas as pd\n",
    "import numpy as np"
   ]
  },
  {
   "source": [
    "### Сессия Spark"
   ],
   "cell_type": "markdown",
   "metadata": {}
  },
  {
   "cell_type": "code",
   "execution_count": 2,
   "metadata": {},
   "outputs": [],
   "source": [
    "sc = SparkContext('local', 'LDAModel')\n",
    "spark = SparkSession(sparkContext=sc)"
   ]
  },
  {
   "source": [
    "# LDA на экономических новостях"
   ],
   "cell_type": "markdown",
   "metadata": {}
  },
  {
   "source": [
    "## Загружаем данные"
   ],
   "cell_type": "markdown",
   "metadata": {}
  },
  {
   "cell_type": "code",
   "execution_count": 3,
   "metadata": {},
   "outputs": [
    {
     "output_type": "stream",
     "name": "stdout",
     "text": [
      "+---+--------------------+\n| id|                text|\n+---+--------------------+\n|  1|МОСКВА, 17 ноября...|\n|  3|ДУБАЙ, 17 ноя - Р...|\n|  4|МИНСК, 17 ноя - Р...|\n|  5|МИНСК, 17 ноя — Р...|\n|  6|МОСКВА, 17 ноя — ...|\n|  7|ДУБАЙ, 17 ноя - Р...|\n|  8|ДУБАЙ, 17 ноя - Р...|\n|  9|ДУБАЙ, 17 ноя - Р...|\n| 10|МОСКВА, 17 ноября...|\n| 52|МОСКВА, 15 ноя - ...|\n+---+--------------------+\nonly showing top 10 rows\n\n"
     ]
    }
   ],
   "source": [
    "news_data = spark.read.parquet('data/russian_news.parquet')\n",
    "news_data.show(10)"
   ]
  },
  {
   "source": [
    "## LDA модель\n"
   ],
   "cell_type": "markdown",
   "metadata": {}
  },
  {
   "cell_type": "code",
   "execution_count": 4,
   "metadata": {},
   "outputs": [],
   "source": [
    "lda_model = LDANewsModel(news_data)\n",
    "lda_results, vocab_model = lda_model.fit(num_topics=25, thresholds=(2, 6))"
   ]
  },
  {
   "source": [
    "Смотрим, что получилось"
   ],
   "cell_type": "markdown",
   "metadata": {}
  },
  {
   "cell_type": "code",
   "execution_count": 5,
   "metadata": {},
   "outputs": [
    {
     "output_type": "stream",
     "name": "stdout",
     "text": [
      "+-----+--------------------+--------------------+\n|topic|         termIndices|         termWeights|\n+-----+--------------------+--------------------+\n|    0|[1512, 791, 1293,...|[0.02495784065403...|\n|    1|[2, 24, 6, 25, 0,...|[0.01225145712789...|\n|    2|[526, 726, 1815, ...|[0.02907690432139...|\n|    3|[44, 311, 45, 10,...|[0.04243576295261...|\n|    4|[31, 37, 0, 195, ...|[0.06399572536332...|\n|    5|[59, 498, 85, 0, ...|[0.02509275665410...|\n|    6|[113, 0, 29, 2, 1...|[0.00224535075979...|\n|    7|[1984, 839, 275, ...|[0.01398661354421...|\n|    8|[1, 4, 0, 5, 44, ...|[0.00642881487190...|\n|    9|[10, 24, 0, 2, 34...|[0.00286354682333...|\n|   10|[1, 6, 5, 0, 2, 7...|[0.00499537646134...|\n|   11|[109, 7, 119, 40,...|[0.04664121046721...|\n|   12|[1, 47, 273, 78, ...|[0.09443958283672...|\n|   13|[7, 0, 3, 40, 31,...|[0.00804471185464...|\n|   14|[1, 0, 25, 2, 221...|[0.00526255831280...|\n|   15|[2, 1, 18, 0, 6, ...|[0.00281350667610...|\n|   16|[239, 19, 33, 21,...|[0.00372223795002...|\n|   17|[820, 1475, 37, 2...|[0.03191272978989...|\n|   18|[43, 11, 22, 197,...|[0.04616194564137...|\n|   19|[1, 3, 25, 85, 57...|[0.00169852047066...|\n+-----+--------------------+--------------------+\nonly showing top 20 rows\n\nТема 1\n----------------\nалкогол\nакциз\nвин\nалкогольн\nпродукц\nпроизводств\nтысяч\nнапитк\nбыл\nнов\nэт\nмиллион\nпродаж\nрозничн\nцен\n----------------\nТема 2\n----------------\nэт\nэкономическ\nстран\nвопрос\nроссийск\nпремьер\nтак\nон\nнаш\nбизнес\nразвит\nест\nбыл\nправительств\nя\n----------------\nТема 3\n----------------\nавтомобил\nмодел\nфосагр\nпродаж\nроссийск\nмлн\nудобрен\nмашин\nавтомоб\nнов\nэт\nпроизводств\nкомпан\nрынк\nкотор\n----------------\nТема 4\n----------------\nбюджет\nтриллион\nфедеральн\nпроект\nсредств\nфонд\nдоход\nправительств\nржд\nрасход\nсостав\nминфин\nгод\nввп\nбюджетн\n----------------\nТема 5\n----------------\nсанкц\nсша\nроссийск\nес\nпрот\nотношен\nстран\nсписок\nукраин\nмер\nввел\nевросоюз\nкомпан\nряд\nпопа\n----------------\nТема 6\n----------------\nпродукц\nфас\nслужб\nроссийск\nпродукт\nведомств\nроссельхознадзор\nтовар\nбелорусс\nстран\nбыл\nпоставк\nввоз\nзапрет\nантимонопольн\n----------------\nТема 7\n----------------\nсоглашен\nроссийск\nгаз\nэт\nнов\nсво\nправительств\nстран\nработ\nпикалевск\nбанк\nэкономическ\nразвит\nнеобходим\nмаршрут\n----------------\nТема 8\n----------------\nч\nэлектроэнерг\nзавод\nгэс\nтысяч\nнпз\nэт\nкомпан\nпредприят\nеэс\nдоллар\nбанк\nбыл\nцен\nперв\n----------------\nТема 9\n----------------\nбанк\nбыл\nроссийск\nкотор\nбюджет\nправительств\nагентств\nфедеральн\nсовет\nцб\nпроект\nсво\nтак\nрешен\nперв\n----------------\nТема 10\n----------------\nпроект\nэкономическ\nроссийск\nэт\nмух\nбыл\nстран\nрегион\nкотор\nкомпан\nсредиземноморск\nперв\nработ\nнов\nсверхзвуков\n----------------\nТема 11\n----------------\nбанк\nстран\nкотор\nроссийск\nэт\nрубл\nдоллар\nрынк\nвозможн\nкомпан\nсво\nработ\nдан\nбыл\nнефт\n----------------\nТема 12\n----------------\nиндекс\nрубл\nпункт\nкурс\nакц\nдоллар\nевр\nдан\nммвб\nкопейк\nбирж\nртс\nофициальн\nмосковск\nсниз\n----------------\nТема 13\n----------------\nбанк\nцб\nбанковск\nсистем\nкредитн\nвклад\nактив\nлиценз\nкарт\nорганизац\nклиент\nоперац\nсбербанк\nроссийск\nдан\n----------------\nТема 14\n----------------\nрубл\nроссийск\nдоллар\nкурс\nсанкц\nкотор\nсша\nевр\nбанк\nнефт\nэкономическ\nстран\nуровн\nсотрудничеств\nнов\n----------------\nТема 15\n----------------\nбанк\nроссийск\nвопрос\nэт\nкрым\nпредприят\nкомпан\nрегион\nсво\nстран\nорганизац\nвозможн\nработ\nрешен\nукраин\n----------------\nТема 16\n----------------\nэт\nбанк\nтак\nроссийск\nстран\nукраин\nбыл\nцирк\nкотор\nфинансов\nправительств\nсбербанк\nон\nмер\nнов\n----------------\nТема 17\n----------------\nинфляц\nтысяч\nрегион\nразвит\nбыл\nцен\nвопрос\nрост\nэт\nуровн\nроссийск\nтон\nон\nпроект\nцб\n----------------\nТема 18\n----------------\nира\nтрамп\nсша\nиран\nдональд\nсир\nнефт\nиранск\nтит\nсоглашен\nсанкц\nпрезидент\nроссийск\nамериканск\nэт\n----------------\nТема 19\n----------------\nтон\nмиллион\nнефт\nдобыч\nтысяч\nбаррел\nопек\nстран\nместорожден\nнефтян\nзерн\nновак\nсостав\nцен\nэкспорт\n----------------\nТема 20\n----------------\nбанк\nдоллар\nвопрос\nслужб\nпутин\nкомпан\nукраин\nэт\nпроизводств\nсбербанк\nкотор\nроссийск\nпатрульн\nэкономическ\nсостав\n----------------\nТема 21\n----------------\nбанк\nзакон\nзаконопроект\nэт\nправительств\nтак\nцб\nкотор\nфинансов\nгосдум\nставк\nрешен\nбыл\nсредств\nправ\n----------------\nТема 22\n----------------\nроссийск\nпроект\nгаз\nэт\nкомпан\nукраин\nбыл\nкотор\nнов\nразвит\nстроительств\nобласт\nстран\nрегион\nработ\n----------------\nТема 23\n----------------\nдоллар\nакц\nмиллион\nсостав\nтысяч\nрост\nрынк\nроссийск\nкомпан\nдан\nбанк\nперв\nцен\nсравнен\nувелич\n----------------\nТема 24\n----------------\nкрым\nукраин\nреспублик\nсевастопол\nреферендум\nвласт\nсоста\nбыл\nсимферопол\nукраинск\nмарт\nполуостров\nстал\nпарламент\nкрымск\n----------------\nТема 25\n----------------\nрубл\nдоллар\nцен\nкурс\nрост\nнефт\nрынк\nевр\nвалют\nуровн\nинфляц\nснижен\nпрогноз\nбаррел\nдан\n----------------\n"
     ]
    }
   ],
   "source": [
    "topics = lda_results.describeTopics(maxTermsPerTopic=15)\n",
    "vocabulary = vocab_model.vocabulary\n",
    "topics.show()\n",
    "topics_rdd = topics.rdd\n",
    "topics_words = topics_rdd.map(lambda row: row['termIndices']).map(\n",
    "    lambda idx_list: [vocabulary[idx] for idx in idx_list]\n",
    ").collect()\n",
    "\n",
    "for idx, topic in enumerate(topics_words):\n",
    "    print(f'Тема {idx + 1}')\n",
    "    print('----------------')\n",
    "    for word in topic:\n",
    "        print(word)\n",
    "    print('----------------')"
   ]
  },
  {
   "source": [
    "## Сохраняем модель"
   ],
   "cell_type": "markdown",
   "metadata": {}
  },
  {
   "cell_type": "code",
   "execution_count": 6,
   "metadata": {},
   "outputs": [],
   "source": [
    "#lda_results.load('weights/LDA_model_1')"
   ]
  },
  {
   "cell_type": "code",
   "execution_count": 7,
   "metadata": {
    "tags": [
     "outputPrepend"
    ]
   },
   "outputs": [
    {
     "output_type": "stream",
     "name": "stderr",
     "text": [
      "sed\n",
      "\n",
      "During handling of the above exception, another exception occurred:\n",
      "\n",
      "Traceback (most recent call last):\n",
      "  File \"/home/migisen/Coding/nir-research/.venv/lib/python3.9/site-packages/IPython/core/interactiveshell.py\", line 3357, in run_ast_nodes\n",
      "    if (await self.run_code(code, result,  async_=asy)):\n",
      "  File \"/home/migisen/Coding/nir-research/.venv/lib/python3.9/site-packages/IPython/core/interactiveshell.py\", line 3454, in run_code\n",
      "    self.showtraceback(running_compiled_code=True)\n",
      "  File \"/home/migisen/Coding/nir-research/.venv/lib/python3.9/site-packages/IPython/core/interactiveshell.py\", line 2066, in showtraceback\n",
      "    self._showtraceback(etype, value, stb)\n",
      "  File \"/home/migisen/Coding/nir-research/.venv/lib/python3.9/site-packages/ipykernel/zmqshell.py\", line 549, in _showtraceback\n",
      "    'evalue' : py3compat.safe_unicode(evalue),\n",
      "  File \"/home/migisen/Coding/nir-research/.venv/lib/python3.9/site-packages/ipython_genutils/py3compat.py\", line 65, in safe_unicode\n",
      "    return unicode_type(e)\n",
      "  File \"/opt/apache-spark/python/lib/py4j-0.10.9-src.zip/py4j/protocol.py\", line 471, in __str__\n",
      "    answer = gateway_client.send_command(self.exception_cmd)\n",
      "  File \"/opt/apache-spark/python/lib/py4j-0.10.9-src.zip/py4j/java_gateway.py\", line 1031, in send_command\n",
      "    connection = self._get_connection()\n",
      "  File \"/opt/apache-spark/python/lib/py4j-0.10.9-src.zip/py4j/java_gateway.py\", line 979, in _get_connection\n",
      "    connection = self._create_connection()\n",
      "  File \"/opt/apache-spark/python/lib/py4j-0.10.9-src.zip/py4j/java_gateway.py\", line 985, in _create_connection\n",
      "    connection.start()\n",
      "  File \"/opt/apache-spark/python/lib/py4j-0.10.9-src.zip/py4j/java_gateway.py\", line 1127, in start\n",
      "    raise Py4JNetworkError(msg, e)\n",
      "py4j.protocol.Py4JNetworkError: An error occurred while trying to connect to the Java server (127.0.0.1:42465)\n",
      "\n",
      "During handling of the above exception, another exception occurred:\n",
      "\n",
      "Traceback (most recent call last):\n",
      "  File \"/home/migisen/Coding/nir-research/.venv/lib/python3.9/site-packages/IPython/core/interactiveshell.py\", line 2061, in showtraceback\n",
      "    stb = value._render_traceback_()\n",
      "AttributeError: 'Py4JNetworkError' object has no attribute '_render_traceback_'\n",
      "\n",
      "During handling of the above exception, another exception occurred:\n",
      "\n",
      "Traceback (most recent call last):\n",
      "  File \"/opt/apache-spark/python/lib/py4j-0.10.9-src.zip/py4j/java_gateway.py\", line 977, in _get_connection\n",
      "    connection = self.deque.pop()\n",
      "IndexError: pop from an empty deque\n",
      "\n",
      "During handling of the above exception, another exception occurred:\n",
      "\n",
      "Traceback (most recent call last):\n",
      "  File \"/opt/apache-spark/python/lib/py4j-0.10.9-src.zip/py4j/java_gateway.py\", line 1115, in start\n",
      "    self.socket.connect((self.address, self.port))\n",
      "ConnectionRefusedError: [Errno 111] Connection refused\n",
      "\n",
      "During handling of the above exception, another exception occurred:\n",
      "\n",
      "Traceback (most recent call last):\n",
      "  File \"/opt/apache-spark/python/lib/py4j-0.10.9-src.zip/py4j/java_gateway.py\", line 977, in _get_connection\n",
      "    connection = self.deque.pop()\n",
      "IndexError: pop from an empty deque\n",
      "\n",
      "During handling of the above exception, another exception occurred:\n",
      "\n",
      "Traceback (most recent call last):\n",
      "  File \"/opt/apache-spark/python/lib/py4j-0.10.9-src.zip/py4j/java_gateway.py\", line 1115, in start\n",
      "    self.socket.connect((self.address, self.port))\n",
      "ConnectionRefusedError: [Errno 111] Connection refused\n",
      "\n",
      "During handling of the above exception, another exception occurred:\n",
      "\n",
      "Traceback (most recent call last):\n",
      "  File \"/opt/apache-spark/python/lib/py4j-0.10.9-src.zip/py4j/java_gateway.py\", line 977, in _get_connection\n",
      "    connection = self.deque.pop()\n",
      "IndexError: pop from an empty deque\n",
      "\n",
      "During handling of the above exception, another exception occurred:\n",
      "\n",
      "Traceback (most recent call last):\n",
      "  File \"/opt/apache-spark/python/lib/py4j-0.10.9-src.zip/py4j/java_gateway.py\", line 1115, in start\n",
      "    self.socket.connect((self.address, self.port))\n",
      "ConnectionRefusedError: [Errno 111] Connection refused\n",
      "\n",
      "During handling of the above exception, another exception occurred:\n",
      "\n",
      "Traceback (most recent call last):\n",
      "  File \"/opt/apache-spark/python/lib/py4j-0.10.9-src.zip/py4j/java_gateway.py\", line 977, in _get_connection\n",
      "    connection = self.deque.pop()\n",
      "IndexError: pop from an empty deque\n",
      "\n",
      "During handling of the above exception, another exception occurred:\n",
      "\n",
      "Traceback (most recent call last):\n",
      "  File \"/opt/apache-spark/python/lib/py4j-0.10.9-src.zip/py4j/java_gateway.py\", line 1115, in start\n",
      "    self.socket.connect((self.address, self.port))\n",
      "ConnectionRefusedError: [Errno 111] Connection refused\n",
      "ERROR:py4j.java_gateway:An error occurred while trying to connect to the Java server (127.0.0.1:42465)\n",
      "Traceback (most recent call last):\n",
      "  File \"/home/migisen/Coding/nir-research/.venv/lib/python3.9/site-packages/IPython/core/interactiveshell.py\", line 3437, in run_code\n",
      "    exec(code_obj, self.user_global_ns, self.user_ns)\n",
      "  File \"<ipython-input-7-d290502a3597>\", line 2, in <module>\n",
      "    prediction_df = predictions.toPandas()\n",
      "  File \"/opt/apache-spark/python/pyspark/sql/pandas/conversion.py\", line 138, in toPandas\n",
      "    pdf = pd.DataFrame.from_records(self.collect(), columns=self.columns)\n",
      "  File \"/opt/apache-spark/python/pyspark/sql/dataframe.py\", line 596, in collect\n",
      "    sock_info = self._jdf.collectToPython()\n",
      "  File \"/opt/apache-spark/python/lib/py4j-0.10.9-src.zip/py4j/java_gateway.py\", line 1304, in __call__\n",
      "    return_value = get_return_value(\n",
      "  File \"/opt/apache-spark/python/pyspark/sql/utils.py\", line 128, in deco\n",
      "    return f(*a, **kw)\n",
      "  File \"/opt/apache-spark/python/lib/py4j-0.10.9-src.zip/py4j/protocol.py\", line 326, in get_return_value\n",
      "    raise Py4JJavaError(\n",
      "py4j.protocol.Py4JJavaError: <unprintable Py4JJavaError object>\n",
      "\n",
      "During handling of the above exception, another exception occurred:\n",
      "\n",
      "Traceback (most recent call last):\n",
      "  File \"/opt/apache-spark/python/lib/py4j-0.10.9-src.zip/py4j/java_gateway.py\", line 977, in _get_connection\n",
      "    connection = self.deque.pop()\n",
      "IndexError: pop from an empty deque\n",
      "\n",
      "During handling of the above exception, another exception occurred:\n",
      "\n",
      "Traceback (most recent call last):\n",
      "  File \"/opt/apache-spark/python/lib/py4j-0.10.9-src.zip/py4j/java_gateway.py\", line 1115, in start\n",
      "    self.socket.connect((self.address, self.port))\n",
      "ConnectionRefusedError: [Errno 111] Connection refused\n",
      "\n",
      "During handling of the above exception, another exception occurred:\n",
      "\n",
      "Traceback (most recent call last):\n",
      "  File \"/home/migisen/Coding/nir-research/.venv/lib/python3.9/site-packages/IPython/core/interactiveshell.py\", line 3357, in run_ast_nodes\n",
      "    if (await self.run_code(code, result,  async_=asy)):\n",
      "  File \"/home/migisen/Coding/nir-research/.venv/lib/python3.9/site-packages/IPython/core/interactiveshell.py\", line 3454, in run_code\n",
      "    self.showtraceback(running_compiled_code=True)\n",
      "  File \"/home/migisen/Coding/nir-research/.venv/lib/python3.9/site-packages/IPython/core/interactiveshell.py\", line 2066, in showtraceback\n",
      "    self._showtraceback(etype, value, stb)\n",
      "  File \"/home/migisen/Coding/nir-research/.venv/lib/python3.9/site-packages/ipykernel/zmqshell.py\", line 549, in _showtraceback\n",
      "    'evalue' : py3compat.safe_unicode(evalue),\n",
      "  File \"/home/migisen/Coding/nir-research/.venv/lib/python3.9/site-packages/ipython_genutils/py3compat.py\", line 65, in safe_unicode\n",
      "    return unicode_type(e)\n",
      "  File \"/opt/apache-spark/python/lib/py4j-0.10.9-src.zip/py4j/protocol.py\", line 471, in __str__\n",
      "    answer = gateway_client.send_command(self.exception_cmd)\n",
      "  File \"/opt/apache-spark/python/lib/py4j-0.10.9-src.zip/py4j/java_gateway.py\", line 1031, in send_command\n",
      "    connection = self._get_connection()\n",
      "  File \"/opt/apache-spark/python/lib/py4j-0.10.9-src.zip/py4j/java_gateway.py\", line 979, in _get_connection\n",
      "    connection = self._create_connection()\n",
      "  File \"/opt/apache-spark/python/lib/py4j-0.10.9-src.zip/py4j/java_gateway.py\", line 985, in _create_connection\n",
      "    connection.start()\n",
      "  File \"/opt/apache-spark/python/lib/py4j-0.10.9-src.zip/py4j/java_gateway.py\", line 1127, in start\n",
      "    raise Py4JNetworkError(msg, e)\n",
      "py4j.protocol.Py4JNetworkError: An error occurred while trying to connect to the Java server (127.0.0.1:42465)\n",
      "\n",
      "During handling of the above exception, another exception occurred:\n",
      "\n",
      "Traceback (most recent call last):\n",
      "  File \"/home/migisen/Coding/nir-research/.venv/lib/python3.9/site-packages/IPython/core/interactiveshell.py\", line 2061, in showtraceback\n",
      "    stb = value._render_traceback_()\n",
      "AttributeError: 'Py4JNetworkError' object has no attribute '_render_traceback_'\n",
      "\n",
      "During handling of the above exception, another exception occurred:\n",
      "\n",
      "Traceback (most recent call last):\n",
      "  File \"/opt/apache-spark/python/lib/py4j-0.10.9-src.zip/py4j/java_gateway.py\", line 977, in _get_connection\n",
      "    connection = self.deque.pop()\n",
      "IndexError: pop from an empty deque\n",
      "\n",
      "During handling of the above exception, another exception occurred:\n",
      "\n",
      "Traceback (most recent call last):\n",
      "  File \"/opt/apache-spark/python/lib/py4j-0.10.9-src.zip/py4j/java_gateway.py\", line 1115, in start\n",
      "    self.socket.connect((self.address, self.port))\n",
      "ConnectionRefusedError: [Errno 111] Connection refused\n",
      "\n",
      "During handling of the above exception, another exception occurred:\n",
      "\n",
      "Traceback (most recent call last):\n",
      "  File \"/opt/apache-spark/python/lib/py4j-0.10.9-src.zip/py4j/java_gateway.py\", line 977, in _get_connection\n",
      "    connection = self.deque.pop()\n",
      "IndexError: pop from an empty deque\n",
      "\n",
      "During handling of the above exception, another exception occurred:\n",
      "\n",
      "Traceback (most recent call last):\n",
      "  File \"/opt/apache-spark/python/lib/py4j-0.10.9-src.zip/py4j/java_gateway.py\", line 1115, in start\n",
      "    self.socket.connect((self.address, self.port))\n",
      "ConnectionRefusedError: [Errno 111] Connection refused\n",
      "\n",
      "During handling of the above exception, another exception occurred:\n",
      "\n",
      "Traceback (most recent call last):\n",
      "  File \"/opt/apache-spark/python/lib/py4j-0.10.9-src.zip/py4j/java_gateway.py\", line 977, in _get_connection\n",
      "    connection = self.deque.pop()\n",
      "IndexError: pop from an empty deque\n",
      "\n",
      "During handling of the above exception, another exception occurred:\n",
      "\n",
      "Traceback (most recent call last):\n",
      "  File \"/opt/apache-spark/python/lib/py4j-0.10.9-src.zip/py4j/java_gateway.py\", line 1115, in start\n",
      "    self.socket.connect((self.address, self.port))\n",
      "ConnectionRefusedError: [Errno 111] Connection refused\n",
      "ERROR:py4j.java_gateway:An error occurred while trying to connect to the Java server (127.0.0.1:42465)\n",
      "Traceback (most recent call last):\n",
      "  File \"/home/migisen/Coding/nir-research/.venv/lib/python3.9/site-packages/IPython/core/interactiveshell.py\", line 3437, in run_code\n",
      "    exec(code_obj, self.user_global_ns, self.user_ns)\n",
      "  File \"<ipython-input-7-d290502a3597>\", line 2, in <module>\n",
      "    prediction_df = predictions.toPandas()\n",
      "  File \"/opt/apache-spark/python/pyspark/sql/pandas/conversion.py\", line 138, in toPandas\n",
      "    pdf = pd.DataFrame.from_records(self.collect(), columns=self.columns)\n",
      "  File \"/opt/apache-spark/python/pyspark/sql/dataframe.py\", line 596, in collect\n",
      "    sock_info = self._jdf.collectToPython()\n",
      "  File \"/opt/apache-spark/python/lib/py4j-0.10.9-src.zip/py4j/java_gateway.py\", line 1304, in __call__\n",
      "    return_value = get_return_value(\n",
      "  File \"/opt/apache-spark/python/pyspark/sql/utils.py\", line 128, in deco\n",
      "    return f(*a, **kw)\n",
      "  File \"/opt/apache-spark/python/lib/py4j-0.10.9-src.zip/py4j/protocol.py\", line 326, in get_return_value\n",
      "    raise Py4JJavaError(\n",
      "py4j.protocol.Py4JJavaError: <unprintable Py4JJavaError object>\n",
      "\n",
      "During handling of the above exception, another exception occurred:\n",
      "\n",
      "Traceback (most recent call last):\n",
      "  File \"/opt/apache-spark/python/lib/py4j-0.10.9-src.zip/py4j/java_gateway.py\", line 977, in _get_connection\n",
      "    connection = self.deque.pop()\n",
      "IndexError: pop from an empty deque\n",
      "\n",
      "During handling of the above exception, another exception occurred:\n",
      "\n",
      "Traceback (most recent call last):\n",
      "  File \"/opt/apache-spark/python/lib/py4j-0.10.9-src.zip/py4j/java_gateway.py\", line 1115, in start\n",
      "    self.socket.connect((self.address, self.port))\n",
      "ConnectionRefusedError: [Errno 111] Connection refused\n",
      "\n",
      "During handling of the above exception, another exception occurred:\n",
      "\n",
      "Traceback (most recent call last):\n",
      "  File \"/home/migisen/Coding/nir-research/.venv/lib/python3.9/site-packages/IPython/core/interactiveshell.py\", line 3357, in run_ast_nodes\n",
      "    if (await self.run_code(code, result,  async_=asy)):\n",
      "  File \"/home/migisen/Coding/nir-research/.venv/lib/python3.9/site-packages/IPython/core/interactiveshell.py\", line 3454, in run_code\n",
      "    self.showtraceback(running_compiled_code=True)\n",
      "  File \"/home/migisen/Coding/nir-research/.venv/lib/python3.9/site-packages/IPython/core/interactiveshell.py\", line 2066, in showtraceback\n",
      "    self._showtraceback(etype, value, stb)\n",
      "  File \"/home/migisen/Coding/nir-research/.venv/lib/python3.9/site-packages/ipykernel/zmqshell.py\", line 549, in _showtraceback\n",
      "    'evalue' : py3compat.safe_unicode(evalue),\n",
      "  File \"/home/migisen/Coding/nir-research/.venv/lib/python3.9/site-packages/ipython_genutils/py3compat.py\", line 65, in safe_unicode\n",
      "    return unicode_type(e)\n",
      "  File \"/opt/apache-spark/python/lib/py4j-0.10.9-src.zip/py4j/protocol.py\", line 471, in __str__\n",
      "    answer = gateway_client.send_command(self.exception_cmd)\n",
      "  File \"/opt/apache-spark/python/lib/py4j-0.10.9-src.zip/py4j/java_gateway.py\", line 1031, in send_command\n",
      "    connection = self._get_connection()\n",
      "  File \"/opt/apache-spark/python/lib/py4j-0.10.9-src.zip/py4j/java_gateway.py\", line 979, in _get_connection\n",
      "    connection = self._create_connection()\n",
      "  File \"/opt/apache-spark/python/lib/py4j-0.10.9-src.zip/py4j/java_gateway.py\", line 985, in _create_connection\n",
      "    connection.start()\n",
      "  File \"/opt/apache-spark/python/lib/py4j-0.10.9-src.zip/py4j/java_gateway.py\", line 1127, in start\n",
      "    raise Py4JNetworkError(msg, e)\n",
      "py4j.protocol.Py4JNetworkError: An error occurred while trying to connect to the Java server (127.0.0.1:42465)\n",
      "\n",
      "During handling of the above exception, another exception occurred:\n",
      "\n",
      "Traceback (most recent call last):\n",
      "  File \"/home/migisen/Coding/nir-research/.venv/lib/python3.9/site-packages/IPython/core/interactiveshell.py\", line 2061, in showtraceback\n",
      "    stb = value._render_traceback_()\n",
      "AttributeError: 'Py4JNetworkError' object has no attribute '_render_traceback_'\n",
      "\n",
      "During handling of the above exception, another exception occurred:\n",
      "\n",
      "Traceback (most recent call last):\n",
      "  File \"/opt/apache-spark/python/lib/py4j-0.10.9-src.zip/py4j/java_gateway.py\", line 977, in _get_connection\n",
      "    connection = self.deque.pop()\n",
      "IndexError: pop from an empty deque\n",
      "\n",
      "During handling of the above exception, another exception occurred:\n",
      "\n",
      "Traceback (most recent call last):\n",
      "  File \"/opt/apache-spark/python/lib/py4j-0.10.9-src.zip/py4j/java_gateway.py\", line 1115, in start\n",
      "    self.socket.connect((self.address, self.port))\n",
      "ConnectionRefusedError: [Errno 111] Connection refused\n",
      "\n",
      "During handling of the above exception, another exception occurred:\n",
      "\n",
      "Traceback (most recent call last):\n",
      "  File \"/opt/apache-spark/python/lib/py4j-0.10.9-src.zip/py4j/java_gateway.py\", line 977, in _get_connection\n",
      "    connection = self.deque.pop()\n",
      "IndexError: pop from an empty deque\n",
      "\n",
      "During handling of the above exception, another exception occurred:\n",
      "\n",
      "Traceback (most recent call last):\n",
      "  File \"/opt/apache-spark/python/lib/py4j-0.10.9-src.zip/py4j/java_gateway.py\", line 1115, in start\n",
      "    self.socket.connect((self.address, self.port))\n",
      "ConnectionRefusedError: [Errno 111] Connection refused\n",
      "ERROR:py4j.java_gateway:An error occurred while trying to connect to the Java server (127.0.0.1:42465)\n",
      "Traceback (most recent call last):\n",
      "  File \"/home/migisen/Coding/nir-research/.venv/lib/python3.9/site-packages/IPython/core/interactiveshell.py\", line 3437, in run_code\n",
      "    exec(code_obj, self.user_global_ns, self.user_ns)\n",
      "  File \"<ipython-input-7-d290502a3597>\", line 2, in <module>\n",
      "    prediction_df = predictions.toPandas()\n",
      "  File \"/opt/apache-spark/python/pyspark/sql/pandas/conversion.py\", line 138, in toPandas\n",
      "    pdf = pd.DataFrame.from_records(self.collect(), columns=self.columns)\n",
      "  File \"/opt/apache-spark/python/pyspark/sql/dataframe.py\", line 596, in collect\n",
      "    sock_info = self._jdf.collectToPython()\n",
      "  File \"/opt/apache-spark/python/lib/py4j-0.10.9-src.zip/py4j/java_gateway.py\", line 1304, in __call__\n",
      "    return_value = get_return_value(\n",
      "  File \"/opt/apache-spark/python/pyspark/sql/utils.py\", line 128, in deco\n",
      "    return f(*a, **kw)\n",
      "  File \"/opt/apache-spark/python/lib/py4j-0.10.9-src.zip/py4j/protocol.py\", line 326, in get_return_value\n",
      "    raise Py4JJavaError(\n",
      "py4j.protocol.Py4JJavaError: <unprintable Py4JJavaError object>\n",
      "\n",
      "During handling of the above exception, another exception occurred:\n",
      "\n",
      "Traceback (most recent call last):\n",
      "  File \"/opt/apache-spark/python/lib/py4j-0.10.9-src.zip/py4j/java_gateway.py\", line 977, in _get_connection\n",
      "    connection = self.deque.pop()\n",
      "IndexError: pop from an empty deque\n",
      "\n",
      "During handling of the above exception, another exception occurred:\n",
      "\n",
      "Traceback (most recent call last):\n",
      "  File \"/opt/apache-spark/python/lib/py4j-0.10.9-src.zip/py4j/java_gateway.py\", line 1115, in start\n",
      "    self.socket.connect((self.address, self.port))\n",
      "ConnectionRefusedError: [Errno 111] Connection refused\n",
      "\n",
      "During handling of the above exception, another exception occurred:\n",
      "\n",
      "Traceback (most recent call last):\n",
      "  File \"/home/migisen/Coding/nir-research/.venv/lib/python3.9/site-packages/IPython/core/interactiveshell.py\", line 3357, in run_ast_nodes\n",
      "    if (await self.run_code(code, result,  async_=asy)):\n",
      "  File \"/home/migisen/Coding/nir-research/.venv/lib/python3.9/site-packages/IPython/core/interactiveshell.py\", line 3454, in run_code\n",
      "    self.showtraceback(running_compiled_code=True)\n",
      "  File \"/home/migisen/Coding/nir-research/.venv/lib/python3.9/site-packages/IPython/core/interactiveshell.py\", line 2066, in showtraceback\n",
      "    self._showtraceback(etype, value, stb)\n",
      "  File \"/home/migisen/Coding/nir-research/.venv/lib/python3.9/site-packages/ipykernel/zmqshell.py\", line 549, in _showtraceback\n",
      "    'evalue' : py3compat.safe_unicode(evalue),\n",
      "  File \"/home/migisen/Coding/nir-research/.venv/lib/python3.9/site-packages/ipython_genutils/py3compat.py\", line 65, in safe_unicode\n",
      "    return unicode_type(e)\n",
      "  File \"/opt/apache-spark/python/lib/py4j-0.10.9-src.zip/py4j/protocol.py\", line 471, in __str__\n",
      "    answer = gateway_client.send_command(self.exception_cmd)\n",
      "  File \"/opt/apache-spark/python/lib/py4j-0.10.9-src.zip/py4j/java_gateway.py\", line 1031, in send_command\n",
      "    connection = self._get_connection()\n",
      "  File \"/opt/apache-spark/python/lib/py4j-0.10.9-src.zip/py4j/java_gateway.py\", line 979, in _get_connection\n",
      "    connection = self._create_connection()\n",
      "  File \"/opt/apache-spark/python/lib/py4j-0.10.9-src.zip/py4j/java_gateway.py\", line 985, in _create_connection\n",
      "    connection.start()\n",
      "  File \"/opt/apache-spark/python/lib/py4j-0.10.9-src.zip/py4j/java_gateway.py\", line 1127, in start\n",
      "    raise Py4JNetworkError(msg, e)\n",
      "py4j.protocol.Py4JNetworkError: An error occurred while trying to connect to the Java server (127.0.0.1:42465)\n",
      "\n",
      "During handling of the above exception, another exception occurred:\n",
      "\n",
      "Traceback (most recent call last):\n",
      "  File \"/home/migisen/Coding/nir-research/.venv/lib/python3.9/site-packages/IPython/core/interactiveshell.py\", line 2061, in showtraceback\n",
      "    stb = value._render_traceback_()\n",
      "AttributeError: 'Py4JNetworkError' object has no attribute '_render_traceback_'\n",
      "\n",
      "During handling of the above exception, another exception occurred:\n",
      "\n",
      "Traceback (most recent call last):\n",
      "  File \"/opt/apache-spark/python/lib/py4j-0.10.9-src.zip/py4j/java_gateway.py\", line 977, in _get_connection\n",
      "    connection = self.deque.pop()\n",
      "IndexError: pop from an empty deque\n",
      "\n",
      "During handling of the above exception, another exception occurred:\n",
      "\n",
      "Traceback (most recent call last):\n",
      "  File \"/opt/apache-spark/python/lib/py4j-0.10.9-src.zip/py4j/java_gateway.py\", line 1115, in start\n",
      "    self.socket.connect((self.address, self.port))\n",
      "ConnectionRefusedError: [Errno 111] Connection refused\n"
     ]
    },
    {
     "output_type": "error",
     "ename": "Py4JNetworkError",
     "evalue": "An error occurred while trying to connect to the Java server (127.0.0.1:42465)",
     "traceback": [
      "\u001b[0;31m---------------------------------------------------------------------------\u001b[0m",
      "\u001b[0;31mPy4JJavaError\u001b[0m                             Traceback (most recent call last)",
      "    \u001b[0;31m[... skipping hidden 1 frame]\u001b[0m\n",
      "\u001b[0;32m<ipython-input-7-d290502a3597>\u001b[0m in \u001b[0;36m<module>\u001b[0;34m\u001b[0m\n\u001b[1;32m      1\u001b[0m \u001b[0mpredictions\u001b[0m\u001b[0;34m,\u001b[0m \u001b[0mcv_model\u001b[0m \u001b[0;34m=\u001b[0m \u001b[0mlda_model\u001b[0m\u001b[0;34m.\u001b[0m\u001b[0mpredict\u001b[0m\u001b[0;34m(\u001b[0m\u001b[0mnews_data\u001b[0m\u001b[0;34m)\u001b[0m\u001b[0;34m\u001b[0m\u001b[0;34m\u001b[0m\u001b[0m\n\u001b[0;32m----> 2\u001b[0;31m \u001b[0mprediction_df\u001b[0m \u001b[0;34m=\u001b[0m \u001b[0mpredictions\u001b[0m\u001b[0;34m.\u001b[0m\u001b[0mtoPandas\u001b[0m\u001b[0;34m(\u001b[0m\u001b[0;34m)\u001b[0m\u001b[0;34m\u001b[0m\u001b[0;34m\u001b[0m\u001b[0m\n\u001b[0m\u001b[1;32m      3\u001b[0m \u001b[0mprediction_df\u001b[0m\u001b[0;34m[\u001b[0m\u001b[0;34m'predicted_topic'\u001b[0m\u001b[0;34m]\u001b[0m \u001b[0;34m=\u001b[0m \u001b[0mprediction_df\u001b[0m\u001b[0;34m.\u001b[0m\u001b[0mtopicDistribution\u001b[0m\u001b[0;34m.\u001b[0m\u001b[0mmap\u001b[0m\u001b[0;34m(\u001b[0m\u001b[0mnp\u001b[0m\u001b[0;34m.\u001b[0m\u001b[0margmax\u001b[0m\u001b[0;34m)\u001b[0m\u001b[0;34m\u001b[0m\u001b[0;34m\u001b[0m\u001b[0m\n",
      "\u001b[0;32m/opt/apache-spark/python/pyspark/sql/pandas/conversion.py\u001b[0m in \u001b[0;36mtoPandas\u001b[0;34m(self)\u001b[0m\n\u001b[1;32m    137\u001b[0m         \u001b[0;31m# Below is toPandas without Arrow optimization.\u001b[0m\u001b[0;34m\u001b[0m\u001b[0;34m\u001b[0m\u001b[0;34m\u001b[0m\u001b[0m\n\u001b[0;32m--> 138\u001b[0;31m         \u001b[0mpdf\u001b[0m \u001b[0;34m=\u001b[0m \u001b[0mpd\u001b[0m\u001b[0;34m.\u001b[0m\u001b[0mDataFrame\u001b[0m\u001b[0;34m.\u001b[0m\u001b[0mfrom_records\u001b[0m\u001b[0;34m(\u001b[0m\u001b[0mself\u001b[0m\u001b[0;34m.\u001b[0m\u001b[0mcollect\u001b[0m\u001b[0;34m(\u001b[0m\u001b[0;34m)\u001b[0m\u001b[0;34m,\u001b[0m \u001b[0mcolumns\u001b[0m\u001b[0;34m=\u001b[0m\u001b[0mself\u001b[0m\u001b[0;34m.\u001b[0m\u001b[0mcolumns\u001b[0m\u001b[0;34m)\u001b[0m\u001b[0;34m\u001b[0m\u001b[0;34m\u001b[0m\u001b[0m\n\u001b[0m\u001b[1;32m    139\u001b[0m         \u001b[0mcolumn_counter\u001b[0m \u001b[0;34m=\u001b[0m \u001b[0mCounter\u001b[0m\u001b[0;34m(\u001b[0m\u001b[0mself\u001b[0m\u001b[0;34m.\u001b[0m\u001b[0mcolumns\u001b[0m\u001b[0;34m)\u001b[0m\u001b[0;34m\u001b[0m\u001b[0;34m\u001b[0m\u001b[0m\n",
      "\u001b[0;32m/opt/apache-spark/python/pyspark/sql/dataframe.py\u001b[0m in \u001b[0;36mcollect\u001b[0;34m(self)\u001b[0m\n\u001b[1;32m    595\u001b[0m         \u001b[0;32mwith\u001b[0m \u001b[0mSCCallSiteSync\u001b[0m\u001b[0;34m(\u001b[0m\u001b[0mself\u001b[0m\u001b[0;34m.\u001b[0m\u001b[0m_sc\u001b[0m\u001b[0;34m)\u001b[0m \u001b[0;32mas\u001b[0m \u001b[0mcss\u001b[0m\u001b[0;34m:\u001b[0m\u001b[0;34m\u001b[0m\u001b[0;34m\u001b[0m\u001b[0m\n\u001b[0;32m--> 596\u001b[0;31m             \u001b[0msock_info\u001b[0m \u001b[0;34m=\u001b[0m \u001b[0mself\u001b[0m\u001b[0;34m.\u001b[0m\u001b[0m_jdf\u001b[0m\u001b[0;34m.\u001b[0m\u001b[0mcollectToPython\u001b[0m\u001b[0;34m(\u001b[0m\u001b[0;34m)\u001b[0m\u001b[0;34m\u001b[0m\u001b[0;34m\u001b[0m\u001b[0m\n\u001b[0m\u001b[1;32m    597\u001b[0m         \u001b[0;32mreturn\u001b[0m \u001b[0mlist\u001b[0m\u001b[0;34m(\u001b[0m\u001b[0m_load_from_socket\u001b[0m\u001b[0;34m(\u001b[0m\u001b[0msock_info\u001b[0m\u001b[0;34m,\u001b[0m \u001b[0mBatchedSerializer\u001b[0m\u001b[0;34m(\u001b[0m\u001b[0mPickleSerializer\u001b[0m\u001b[0;34m(\u001b[0m\u001b[0;34m)\u001b[0m\u001b[0;34m)\u001b[0m\u001b[0;34m)\u001b[0m\u001b[0;34m)\u001b[0m\u001b[0;34m\u001b[0m\u001b[0;34m\u001b[0m\u001b[0m\n",
      "\u001b[0;32m/opt/apache-spark/python/lib/py4j-0.10.9-src.zip/py4j/java_gateway.py\u001b[0m in \u001b[0;36m__call__\u001b[0;34m(self, *args)\u001b[0m\n\u001b[1;32m   1303\u001b[0m         \u001b[0manswer\u001b[0m \u001b[0;34m=\u001b[0m \u001b[0mself\u001b[0m\u001b[0;34m.\u001b[0m\u001b[0mgateway_client\u001b[0m\u001b[0;34m.\u001b[0m\u001b[0msend_command\u001b[0m\u001b[0;34m(\u001b[0m\u001b[0mcommand\u001b[0m\u001b[0;34m)\u001b[0m\u001b[0;34m\u001b[0m\u001b[0;34m\u001b[0m\u001b[0m\n\u001b[0;32m-> 1304\u001b[0;31m         return_value = get_return_value(\n\u001b[0m\u001b[1;32m   1305\u001b[0m             answer, self.gateway_client, self.target_id, self.name)\n",
      "\u001b[0;32m/opt/apache-spark/python/pyspark/sql/utils.py\u001b[0m in \u001b[0;36mdeco\u001b[0;34m(*a, **kw)\u001b[0m\n\u001b[1;32m    127\u001b[0m         \u001b[0;32mtry\u001b[0m\u001b[0;34m:\u001b[0m\u001b[0;34m\u001b[0m\u001b[0;34m\u001b[0m\u001b[0m\n\u001b[0;32m--> 128\u001b[0;31m             \u001b[0;32mreturn\u001b[0m \u001b[0mf\u001b[0m\u001b[0;34m(\u001b[0m\u001b[0;34m*\u001b[0m\u001b[0ma\u001b[0m\u001b[0;34m,\u001b[0m \u001b[0;34m**\u001b[0m\u001b[0mkw\u001b[0m\u001b[0;34m)\u001b[0m\u001b[0;34m\u001b[0m\u001b[0;34m\u001b[0m\u001b[0m\n\u001b[0m\u001b[1;32m    129\u001b[0m         \u001b[0;32mexcept\u001b[0m \u001b[0mpy4j\u001b[0m\u001b[0;34m.\u001b[0m\u001b[0mprotocol\u001b[0m\u001b[0;34m.\u001b[0m\u001b[0mPy4JJavaError\u001b[0m \u001b[0;32mas\u001b[0m \u001b[0me\u001b[0m\u001b[0;34m:\u001b[0m\u001b[0;34m\u001b[0m\u001b[0;34m\u001b[0m\u001b[0m\n",
      "\u001b[0;32m/opt/apache-spark/python/lib/py4j-0.10.9-src.zip/py4j/protocol.py\u001b[0m in \u001b[0;36mget_return_value\u001b[0;34m(answer, gateway_client, target_id, name)\u001b[0m\n\u001b[1;32m    325\u001b[0m             \u001b[0;32mif\u001b[0m \u001b[0manswer\u001b[0m\u001b[0;34m[\u001b[0m\u001b[0;36m1\u001b[0m\u001b[0;34m]\u001b[0m \u001b[0;34m==\u001b[0m \u001b[0mREFERENCE_TYPE\u001b[0m\u001b[0;34m:\u001b[0m\u001b[0;34m\u001b[0m\u001b[0;34m\u001b[0m\u001b[0m\n\u001b[0;32m--> 326\u001b[0;31m                 raise Py4JJavaError(\n\u001b[0m\u001b[1;32m    327\u001b[0m                     \u001b[0;34m\"An error occurred while calling {0}{1}{2}.\\n\"\u001b[0m\u001b[0;34m.\u001b[0m\u001b[0;34m\u001b[0m\u001b[0;34m\u001b[0m\u001b[0m\n",
      "\u001b[0;31m<class 'str'>\u001b[0m: (<class 'py4j.protocol.Py4JNetworkError'>, Py4JNetworkError('An error occurred while trying to connect to the Java server (127.0.0.1:42465)'))",
      "\nDuring handling of the above exception, another exception occurred:\n",
      "\u001b[0;31mIndexError\u001b[0m                                Traceback (most recent call last)",
      "\u001b[0;32m/opt/apache-spark/python/lib/py4j-0.10.9-src.zip/py4j/java_gateway.py\u001b[0m in \u001b[0;36m_get_connection\u001b[0;34m(self)\u001b[0m\n\u001b[1;32m    976\u001b[0m         \u001b[0;32mtry\u001b[0m\u001b[0;34m:\u001b[0m\u001b[0;34m\u001b[0m\u001b[0;34m\u001b[0m\u001b[0m\n\u001b[0;32m--> 977\u001b[0;31m             \u001b[0mconnection\u001b[0m \u001b[0;34m=\u001b[0m \u001b[0mself\u001b[0m\u001b[0;34m.\u001b[0m\u001b[0mdeque\u001b[0m\u001b[0;34m.\u001b[0m\u001b[0mpop\u001b[0m\u001b[0;34m(\u001b[0m\u001b[0;34m)\u001b[0m\u001b[0;34m\u001b[0m\u001b[0;34m\u001b[0m\u001b[0m\n\u001b[0m\u001b[1;32m    978\u001b[0m         \u001b[0;32mexcept\u001b[0m \u001b[0mIndexError\u001b[0m\u001b[0;34m:\u001b[0m\u001b[0;34m\u001b[0m\u001b[0;34m\u001b[0m\u001b[0m\n",
      "\u001b[0;31mIndexError\u001b[0m: pop from an empty deque",
      "\nDuring handling of the above exception, another exception occurred:\n",
      "\u001b[0;31mConnectionRefusedError\u001b[0m                    Traceback (most recent call last)",
      "\u001b[0;32m/opt/apache-spark/python/lib/py4j-0.10.9-src.zip/py4j/java_gateway.py\u001b[0m in \u001b[0;36mstart\u001b[0;34m(self)\u001b[0m\n\u001b[1;32m   1114\u001b[0m         \u001b[0;32mtry\u001b[0m\u001b[0;34m:\u001b[0m\u001b[0;34m\u001b[0m\u001b[0;34m\u001b[0m\u001b[0m\n\u001b[0;32m-> 1115\u001b[0;31m             \u001b[0mself\u001b[0m\u001b[0;34m.\u001b[0m\u001b[0msocket\u001b[0m\u001b[0;34m.\u001b[0m\u001b[0mconnect\u001b[0m\u001b[0;34m(\u001b[0m\u001b[0;34m(\u001b[0m\u001b[0mself\u001b[0m\u001b[0;34m.\u001b[0m\u001b[0maddress\u001b[0m\u001b[0;34m,\u001b[0m \u001b[0mself\u001b[0m\u001b[0;34m.\u001b[0m\u001b[0mport\u001b[0m\u001b[0;34m)\u001b[0m\u001b[0;34m)\u001b[0m\u001b[0;34m\u001b[0m\u001b[0;34m\u001b[0m\u001b[0m\n\u001b[0m\u001b[1;32m   1116\u001b[0m             \u001b[0mself\u001b[0m\u001b[0;34m.\u001b[0m\u001b[0mstream\u001b[0m \u001b[0;34m=\u001b[0m \u001b[0mself\u001b[0m\u001b[0;34m.\u001b[0m\u001b[0msocket\u001b[0m\u001b[0;34m.\u001b[0m\u001b[0mmakefile\u001b[0m\u001b[0;34m(\u001b[0m\u001b[0;34m\"rb\"\u001b[0m\u001b[0;34m)\u001b[0m\u001b[0;34m\u001b[0m\u001b[0;34m\u001b[0m\u001b[0m\n",
      "\u001b[0;31mConnectionRefusedError\u001b[0m: [Errno 111] Connection refused",
      "\nDuring handling of the above exception, another exception occurred:\n",
      "\u001b[0;31mPy4JNetworkError\u001b[0m                          Traceback (most recent call last)",
      "    \u001b[0;31m[... skipping hidden 1 frame]\u001b[0m\n",
      "\u001b[0;32m~/Coding/nir-research/.venv/lib/python3.9/site-packages/IPython/core/interactiveshell.py\u001b[0m in \u001b[0;36mshowtraceback\u001b[0;34m(self, exc_tuple, filename, tb_offset, exception_only, running_compiled_code)\u001b[0m\n\u001b[1;32m   2064\u001b[0m                                             value, tb, tb_offset=tb_offset)\n\u001b[1;32m   2065\u001b[0m \u001b[0;34m\u001b[0m\u001b[0m\n\u001b[0;32m-> 2066\u001b[0;31m                     \u001b[0mself\u001b[0m\u001b[0;34m.\u001b[0m\u001b[0m_showtraceback\u001b[0m\u001b[0;34m(\u001b[0m\u001b[0metype\u001b[0m\u001b[0;34m,\u001b[0m \u001b[0mvalue\u001b[0m\u001b[0;34m,\u001b[0m \u001b[0mstb\u001b[0m\u001b[0;34m)\u001b[0m\u001b[0;34m\u001b[0m\u001b[0;34m\u001b[0m\u001b[0m\n\u001b[0m\u001b[1;32m   2067\u001b[0m                     \u001b[0;32mif\u001b[0m \u001b[0mself\u001b[0m\u001b[0;34m.\u001b[0m\u001b[0mcall_pdb\u001b[0m\u001b[0;34m:\u001b[0m\u001b[0;34m\u001b[0m\u001b[0;34m\u001b[0m\u001b[0m\n\u001b[1;32m   2068\u001b[0m                         \u001b[0;31m# drop into debugger\u001b[0m\u001b[0;34m\u001b[0m\u001b[0;34m\u001b[0m\u001b[0;34m\u001b[0m\u001b[0m\n",
      "\u001b[0;32m~/Coding/nir-research/.venv/lib/python3.9/site-packages/ipykernel/zmqshell.py\u001b[0m in \u001b[0;36m_showtraceback\u001b[0;34m(self, etype, evalue, stb)\u001b[0m\n\u001b[1;32m    547\u001b[0m             \u001b[0;34m'traceback'\u001b[0m \u001b[0;34m:\u001b[0m \u001b[0mstb\u001b[0m\u001b[0;34m,\u001b[0m\u001b[0;34m\u001b[0m\u001b[0;34m\u001b[0m\u001b[0m\n\u001b[1;32m    548\u001b[0m             \u001b[0;34m'ename'\u001b[0m \u001b[0;34m:\u001b[0m \u001b[0mstr\u001b[0m\u001b[0;34m(\u001b[0m\u001b[0metype\u001b[0m\u001b[0;34m.\u001b[0m\u001b[0m__name__\u001b[0m\u001b[0;34m)\u001b[0m\u001b[0;34m,\u001b[0m\u001b[0;34m\u001b[0m\u001b[0;34m\u001b[0m\u001b[0m\n\u001b[0;32m--> 549\u001b[0;31m             \u001b[0;34m'evalue'\u001b[0m \u001b[0;34m:\u001b[0m \u001b[0mpy3compat\u001b[0m\u001b[0;34m.\u001b[0m\u001b[0msafe_unicode\u001b[0m\u001b[0;34m(\u001b[0m\u001b[0mevalue\u001b[0m\u001b[0;34m)\u001b[0m\u001b[0;34m,\u001b[0m\u001b[0;34m\u001b[0m\u001b[0;34m\u001b[0m\u001b[0m\n\u001b[0m\u001b[1;32m    550\u001b[0m         }\n\u001b[1;32m    551\u001b[0m \u001b[0;34m\u001b[0m\u001b[0m\n",
      "\u001b[0;32m~/Coding/nir-research/.venv/lib/python3.9/site-packages/ipython_genutils/py3compat.py\u001b[0m in \u001b[0;36msafe_unicode\u001b[0;34m(e)\u001b[0m\n\u001b[1;32m     63\u001b[0m     \"\"\"\n\u001b[1;32m     64\u001b[0m     \u001b[0;32mtry\u001b[0m\u001b[0;34m:\u001b[0m\u001b[0;34m\u001b[0m\u001b[0;34m\u001b[0m\u001b[0m\n\u001b[0;32m---> 65\u001b[0;31m         \u001b[0;32mreturn\u001b[0m \u001b[0municode_type\u001b[0m\u001b[0;34m(\u001b[0m\u001b[0me\u001b[0m\u001b[0;34m)\u001b[0m\u001b[0;34m\u001b[0m\u001b[0;34m\u001b[0m\u001b[0m\n\u001b[0m\u001b[1;32m     66\u001b[0m     \u001b[0;32mexcept\u001b[0m \u001b[0mUnicodeError\u001b[0m\u001b[0;34m:\u001b[0m\u001b[0;34m\u001b[0m\u001b[0;34m\u001b[0m\u001b[0m\n\u001b[1;32m     67\u001b[0m         \u001b[0;32mpass\u001b[0m\u001b[0;34m\u001b[0m\u001b[0;34m\u001b[0m\u001b[0m\n",
      "\u001b[0;32m/opt/apache-spark/python/lib/py4j-0.10.9-src.zip/py4j/protocol.py\u001b[0m in \u001b[0;36m__str__\u001b[0;34m(self)\u001b[0m\n\u001b[1;32m    469\u001b[0m     \u001b[0;32mdef\u001b[0m \u001b[0m__str__\u001b[0m\u001b[0;34m(\u001b[0m\u001b[0mself\u001b[0m\u001b[0;34m)\u001b[0m\u001b[0;34m:\u001b[0m\u001b[0;34m\u001b[0m\u001b[0;34m\u001b[0m\u001b[0m\n\u001b[1;32m    470\u001b[0m         \u001b[0mgateway_client\u001b[0m \u001b[0;34m=\u001b[0m \u001b[0mself\u001b[0m\u001b[0;34m.\u001b[0m\u001b[0mjava_exception\u001b[0m\u001b[0;34m.\u001b[0m\u001b[0m_gateway_client\u001b[0m\u001b[0;34m\u001b[0m\u001b[0;34m\u001b[0m\u001b[0m\n\u001b[0;32m--> 471\u001b[0;31m         \u001b[0manswer\u001b[0m \u001b[0;34m=\u001b[0m \u001b[0mgateway_client\u001b[0m\u001b[0;34m.\u001b[0m\u001b[0msend_command\u001b[0m\u001b[0;34m(\u001b[0m\u001b[0mself\u001b[0m\u001b[0;34m.\u001b[0m\u001b[0mexception_cmd\u001b[0m\u001b[0;34m)\u001b[0m\u001b[0;34m\u001b[0m\u001b[0;34m\u001b[0m\u001b[0m\n\u001b[0m\u001b[1;32m    472\u001b[0m         \u001b[0mreturn_value\u001b[0m \u001b[0;34m=\u001b[0m \u001b[0mget_return_value\u001b[0m\u001b[0;34m(\u001b[0m\u001b[0manswer\u001b[0m\u001b[0;34m,\u001b[0m \u001b[0mgateway_client\u001b[0m\u001b[0;34m,\u001b[0m \u001b[0;32mNone\u001b[0m\u001b[0;34m,\u001b[0m \u001b[0;32mNone\u001b[0m\u001b[0;34m)\u001b[0m\u001b[0;34m\u001b[0m\u001b[0;34m\u001b[0m\u001b[0m\n\u001b[1;32m    473\u001b[0m         \u001b[0;31m# Note: technically this should return a bytestring 'str' rather than\u001b[0m\u001b[0;34m\u001b[0m\u001b[0;34m\u001b[0m\u001b[0;34m\u001b[0m\u001b[0m\n",
      "\u001b[0;32m/opt/apache-spark/python/lib/py4j-0.10.9-src.zip/py4j/java_gateway.py\u001b[0m in \u001b[0;36msend_command\u001b[0;34m(self, command, retry, binary)\u001b[0m\n\u001b[1;32m   1029\u001b[0m          \u001b[0;32mif\u001b[0m\u001b[0;31m \u001b[0m\u001b[0;31m`\u001b[0m\u001b[0mbinary\u001b[0m\u001b[0;31m`\u001b[0m \u001b[0;32mis\u001b[0m\u001b[0;31m \u001b[0m\u001b[0;31m`\u001b[0m\u001b[0;32mTrue\u001b[0m\u001b[0;31m`\u001b[0m\u001b[0;34m.\u001b[0m\u001b[0;34m\u001b[0m\u001b[0;34m\u001b[0m\u001b[0m\n\u001b[1;32m   1030\u001b[0m         \"\"\"\n\u001b[0;32m-> 1031\u001b[0;31m         \u001b[0mconnection\u001b[0m \u001b[0;34m=\u001b[0m \u001b[0mself\u001b[0m\u001b[0;34m.\u001b[0m\u001b[0m_get_connection\u001b[0m\u001b[0;34m(\u001b[0m\u001b[0;34m)\u001b[0m\u001b[0;34m\u001b[0m\u001b[0;34m\u001b[0m\u001b[0m\n\u001b[0m\u001b[1;32m   1032\u001b[0m         \u001b[0;32mtry\u001b[0m\u001b[0;34m:\u001b[0m\u001b[0;34m\u001b[0m\u001b[0;34m\u001b[0m\u001b[0m\n\u001b[1;32m   1033\u001b[0m             \u001b[0mresponse\u001b[0m \u001b[0;34m=\u001b[0m \u001b[0mconnection\u001b[0m\u001b[0;34m.\u001b[0m\u001b[0msend_command\u001b[0m\u001b[0;34m(\u001b[0m\u001b[0mcommand\u001b[0m\u001b[0;34m)\u001b[0m\u001b[0;34m\u001b[0m\u001b[0;34m\u001b[0m\u001b[0m\n",
      "\u001b[0;32m/opt/apache-spark/python/lib/py4j-0.10.9-src.zip/py4j/java_gateway.py\u001b[0m in \u001b[0;36m_get_connection\u001b[0;34m(self)\u001b[0m\n\u001b[1;32m    977\u001b[0m             \u001b[0mconnection\u001b[0m \u001b[0;34m=\u001b[0m \u001b[0mself\u001b[0m\u001b[0;34m.\u001b[0m\u001b[0mdeque\u001b[0m\u001b[0;34m.\u001b[0m\u001b[0mpop\u001b[0m\u001b[0;34m(\u001b[0m\u001b[0;34m)\u001b[0m\u001b[0;34m\u001b[0m\u001b[0;34m\u001b[0m\u001b[0m\n\u001b[1;32m    978\u001b[0m         \u001b[0;32mexcept\u001b[0m \u001b[0mIndexError\u001b[0m\u001b[0;34m:\u001b[0m\u001b[0;34m\u001b[0m\u001b[0;34m\u001b[0m\u001b[0m\n\u001b[0;32m--> 979\u001b[0;31m             \u001b[0mconnection\u001b[0m \u001b[0;34m=\u001b[0m \u001b[0mself\u001b[0m\u001b[0;34m.\u001b[0m\u001b[0m_create_connection\u001b[0m\u001b[0;34m(\u001b[0m\u001b[0;34m)\u001b[0m\u001b[0;34m\u001b[0m\u001b[0;34m\u001b[0m\u001b[0m\n\u001b[0m\u001b[1;32m    980\u001b[0m         \u001b[0;32mreturn\u001b[0m \u001b[0mconnection\u001b[0m\u001b[0;34m\u001b[0m\u001b[0;34m\u001b[0m\u001b[0m\n\u001b[1;32m    981\u001b[0m \u001b[0;34m\u001b[0m\u001b[0m\n",
      "\u001b[0;32m/opt/apache-spark/python/lib/py4j-0.10.9-src.zip/py4j/java_gateway.py\u001b[0m in \u001b[0;36m_create_connection\u001b[0;34m(self)\u001b[0m\n\u001b[1;32m    983\u001b[0m         connection = GatewayConnection(\n\u001b[1;32m    984\u001b[0m             self.gateway_parameters, self.gateway_property)\n\u001b[0;32m--> 985\u001b[0;31m         \u001b[0mconnection\u001b[0m\u001b[0;34m.\u001b[0m\u001b[0mstart\u001b[0m\u001b[0;34m(\u001b[0m\u001b[0;34m)\u001b[0m\u001b[0;34m\u001b[0m\u001b[0;34m\u001b[0m\u001b[0m\n\u001b[0m\u001b[1;32m    986\u001b[0m         \u001b[0;32mreturn\u001b[0m \u001b[0mconnection\u001b[0m\u001b[0;34m\u001b[0m\u001b[0;34m\u001b[0m\u001b[0m\n\u001b[1;32m    987\u001b[0m \u001b[0;34m\u001b[0m\u001b[0m\n",
      "\u001b[0;32m/opt/apache-spark/python/lib/py4j-0.10.9-src.zip/py4j/java_gateway.py\u001b[0m in \u001b[0;36mstart\u001b[0;34m(self)\u001b[0m\n\u001b[1;32m   1125\u001b[0m                 \u001b[0;34m\"server ({0}:{1})\"\u001b[0m\u001b[0;34m.\u001b[0m\u001b[0mformat\u001b[0m\u001b[0;34m(\u001b[0m\u001b[0mself\u001b[0m\u001b[0;34m.\u001b[0m\u001b[0maddress\u001b[0m\u001b[0;34m,\u001b[0m \u001b[0mself\u001b[0m\u001b[0;34m.\u001b[0m\u001b[0mport\u001b[0m\u001b[0;34m)\u001b[0m\u001b[0;34m\u001b[0m\u001b[0;34m\u001b[0m\u001b[0m\n\u001b[1;32m   1126\u001b[0m             \u001b[0mlogger\u001b[0m\u001b[0;34m.\u001b[0m\u001b[0mexception\u001b[0m\u001b[0;34m(\u001b[0m\u001b[0mmsg\u001b[0m\u001b[0;34m)\u001b[0m\u001b[0;34m\u001b[0m\u001b[0;34m\u001b[0m\u001b[0m\n\u001b[0;32m-> 1127\u001b[0;31m             \u001b[0;32mraise\u001b[0m \u001b[0mPy4JNetworkError\u001b[0m\u001b[0;34m(\u001b[0m\u001b[0mmsg\u001b[0m\u001b[0;34m,\u001b[0m \u001b[0me\u001b[0m\u001b[0;34m)\u001b[0m\u001b[0;34m\u001b[0m\u001b[0;34m\u001b[0m\u001b[0m\n\u001b[0m\u001b[1;32m   1128\u001b[0m \u001b[0;34m\u001b[0m\u001b[0m\n\u001b[1;32m   1129\u001b[0m     \u001b[0;32mdef\u001b[0m \u001b[0m_authenticate_connection\u001b[0m\u001b[0;34m(\u001b[0m\u001b[0mself\u001b[0m\u001b[0;34m)\u001b[0m\u001b[0;34m:\u001b[0m\u001b[0;34m\u001b[0m\u001b[0;34m\u001b[0m\u001b[0m\n",
      "\u001b[0;31mPy4JNetworkError\u001b[0m: An error occurred while trying to connect to the Java server (127.0.0.1:42465)"
     ]
    }
   ],
   "source": [
    "predictions, cv_model = lda_model.predict(news_data)\n",
    "prediction_df = predictions.toPandas()\n",
    "prediction_df['predicted_topic'] = prediction_df.topicDistribution.map(np.argmax)\n",
    "prediction_df"
   ]
  },
  {
   "cell_type": "code",
   "execution_count": 8,
   "metadata": {},
   "outputs": [
    {
     "output_type": "display_data",
     "data": {
      "text/plain": "<Figure size 432x288 with 1 Axes>",
      "image/svg+xml": "<?xml version=\"1.0\" encoding=\"utf-8\" standalone=\"no\"?>\n<!DOCTYPE svg PUBLIC \"-//W3C//DTD SVG 1.1//EN\"\n  \"http://www.w3.org/Graphics/SVG/1.1/DTD/svg11.dtd\">\n<svg height=\"248.518125pt\" version=\"1.1\" viewBox=\"0 0 401.690625 248.518125\" width=\"401.690625pt\" xmlns=\"http://www.w3.org/2000/svg\" xmlns:xlink=\"http://www.w3.org/1999/xlink\">\n <metadata>\n  <rdf:RDF xmlns:cc=\"http://creativecommons.org/ns#\" xmlns:dc=\"http://purl.org/dc/elements/1.1/\" xmlns:rdf=\"http://www.w3.org/1999/02/22-rdf-syntax-ns#\">\n   <cc:Work>\n    <dc:type rdf:resource=\"http://purl.org/dc/dcmitype/StillImage\"/>\n    <dc:date>2021-04-04T18:45:00.228113</dc:date>\n    <dc:format>image/svg+xml</dc:format>\n    <dc:creator>\n     <cc:Agent>\n      <dc:title>Matplotlib v3.4.1, https://matplotlib.org/</dc:title>\n     </cc:Agent>\n    </dc:creator>\n   </cc:Work>\n  </rdf:RDF>\n </metadata>\n <defs>\n  <style type=\"text/css\">*{stroke-linecap:butt;stroke-linejoin:round;}</style>\n </defs>\n <g id=\"figure_1\">\n  <g id=\"patch_1\">\n   <path d=\"M 0 248.518125 \nL 401.690625 248.518125 \nL 401.690625 0 \nL 0 0 \nz\n\" style=\"fill:none;\"/>\n  </g>\n  <g id=\"axes_1\">\n   <g id=\"patch_2\">\n    <path d=\"M 59.690625 224.64 \nL 394.490625 224.64 \nL 394.490625 7.2 \nL 59.690625 7.2 \nz\n\" style=\"fill:#ffffff;\"/>\n   </g>\n   <g id=\"patch_3\">\n    <path clip-path=\"url(#p703964015f)\" d=\"M 74.908807 224.64 \nL 90.126989 224.64 \nL 90.126989 187.828856 \nL 74.908807 187.828856 \nz\n\" style=\"fill:#1f77b4;\"/>\n   </g>\n   <g id=\"patch_4\">\n    <path clip-path=\"url(#p703964015f)\" d=\"M 90.126989 224.64 \nL 105.34517 224.64 \nL 105.34517 158.593659 \nL 90.126989 158.593659 \nz\n\" style=\"fill:#1f77b4;\"/>\n   </g>\n   <g id=\"patch_5\">\n    <path clip-path=\"url(#p703964015f)\" d=\"M 105.34517 224.64 \nL 120.563352 224.64 \nL 120.563352 224.286259 \nL 105.34517 224.286259 \nz\n\" style=\"fill:#1f77b4;\"/>\n   </g>\n   <g id=\"patch_6\">\n    <path clip-path=\"url(#p703964015f)\" d=\"M 120.563352 224.64 \nL 135.781534 224.64 \nL 135.781534 224.64 \nL 120.563352 224.64 \nz\n\" style=\"fill:#1f77b4;\"/>\n   </g>\n   <g id=\"patch_7\">\n    <path clip-path=\"url(#p703964015f)\" d=\"M 135.781534 224.64 \nL 150.999716 224.64 \nL 150.999716 219.120171 \nL 135.781534 219.120171 \nz\n\" style=\"fill:#1f77b4;\"/>\n   </g>\n   <g id=\"patch_8\">\n    <path clip-path=\"url(#p703964015f)\" d=\"M 150.999716 224.64 \nL 166.217898 224.64 \nL 166.217898 222.053271 \nL 150.999716 222.053271 \nz\n\" style=\"fill:#1f77b4;\"/>\n   </g>\n   <g id=\"patch_9\">\n    <path clip-path=\"url(#p703964015f)\" d=\"M 166.217898 224.64 \nL 181.43608 224.64 \nL 181.43608 224.64 \nL 166.217898 224.64 \nz\n\" style=\"fill:#1f77b4;\"/>\n   </g>\n   <g id=\"patch_10\">\n    <path clip-path=\"url(#p703964015f)\" d=\"M 181.43608 224.64 \nL 196.654261 224.64 \nL 196.654261 205.095825 \nL 181.43608 205.095825 \nz\n\" style=\"fill:#1f77b4;\"/>\n   </g>\n   <g id=\"patch_11\">\n    <path clip-path=\"url(#p703964015f)\" d=\"M 196.654261 224.64 \nL 211.872443 224.64 \nL 211.872443 138.356742 \nL 196.654261 138.356742 \nz\n\" style=\"fill:#1f77b4;\"/>\n   </g>\n   <g id=\"patch_12\">\n    <path clip-path=\"url(#p703964015f)\" d=\"M 211.872443 224.64 \nL 227.090625 224.64 \nL 227.090625 224.64 \nL 211.872443 224.64 \nz\n\" style=\"fill:#1f77b4;\"/>\n   </g>\n   <g id=\"patch_13\">\n    <path clip-path=\"url(#p703964015f)\" d=\"M 227.090625 224.64 \nL 242.308807 224.64 \nL 242.308807 171.099868 \nL 227.090625 171.099868 \nz\n\" style=\"fill:#1f77b4;\"/>\n   </g>\n   <g id=\"patch_14\">\n    <path clip-path=\"url(#p703964015f)\" d=\"M 242.308807 224.64 \nL 257.526989 224.64 \nL 257.526989 211.131526 \nL 242.308807 211.131526 \nz\n\" style=\"fill:#1f77b4;\"/>\n   </g>\n   <g id=\"patch_15\">\n    <path clip-path=\"url(#p703964015f)\" d=\"M 257.526989 224.64 \nL 272.74517 224.64 \nL 272.74517 224.603152 \nL 257.526989 224.603152 \nz\n\" style=\"fill:#1f77b4;\"/>\n   </g>\n   <g id=\"patch_16\">\n    <path clip-path=\"url(#p703964015f)\" d=\"M 272.74517 224.64 \nL 287.963352 224.64 \nL 287.963352 224.64 \nL 272.74517 224.64 \nz\n\" style=\"fill:#1f77b4;\"/>\n   </g>\n   <g id=\"patch_17\">\n    <path clip-path=\"url(#p703964015f)\" d=\"M 287.963352 224.64 \nL 303.181534 224.64 \nL 303.181534 158.77053 \nL 287.963352 158.77053 \nz\n\" style=\"fill:#1f77b4;\"/>\n   </g>\n   <g id=\"patch_18\">\n    <path clip-path=\"url(#p703964015f)\" d=\"M 303.181534 224.64 \nL 318.399716 224.64 \nL 318.399716 17.554286 \nL 303.181534 17.554286 \nz\n\" style=\"fill:#1f77b4;\"/>\n   </g>\n   <g id=\"patch_19\">\n    <path clip-path=\"url(#p703964015f)\" d=\"M 318.399716 224.64 \nL 333.617898 224.64 \nL 333.617898 224.64 \nL 318.399716 224.64 \nz\n\" style=\"fill:#1f77b4;\"/>\n   </g>\n   <g id=\"patch_20\">\n    <path clip-path=\"url(#p703964015f)\" d=\"M 333.617898 224.64 \nL 348.83608 224.64 \nL 348.83608 199.583366 \nL 333.617898 199.583366 \nz\n\" style=\"fill:#1f77b4;\"/>\n   </g>\n   <g id=\"patch_21\">\n    <path clip-path=\"url(#p703964015f)\" d=\"M 348.83608 224.64 \nL 364.054261 224.64 \nL 364.054261 116.262686 \nL 348.83608 116.262686 \nz\n\" style=\"fill:#1f77b4;\"/>\n   </g>\n   <g id=\"patch_22\">\n    <path clip-path=\"url(#p703964015f)\" d=\"M 364.054261 224.64 \nL 379.272443 224.64 \nL 379.272443 142.579522 \nL 364.054261 142.579522 \nz\n\" style=\"fill:#1f77b4;\"/>\n   </g>\n   <g id=\"matplotlib.axis_1\">\n    <g id=\"xtick_1\">\n     <g id=\"line2d_1\">\n      <defs>\n       <path d=\"M 0 0 \nL 0 3.5 \n\" id=\"m1625ff5261\" style=\"stroke:#000000;stroke-width:0.8;\"/>\n      </defs>\n      <g>\n       <use style=\"stroke:#000000;stroke-width:0.8;\" x=\"74.908807\" xlink:href=\"#m1625ff5261\" y=\"224.64\"/>\n      </g>\n     </g>\n     <g id=\"text_1\">\n      <!-- 0 -->\n      <g transform=\"translate(71.727557 239.238437)scale(0.1 -0.1)\">\n       <defs>\n        <path d=\"M 2034 4250 \nQ 1547 4250 1301 3770 \nQ 1056 3291 1056 2328 \nQ 1056 1369 1301 889 \nQ 1547 409 2034 409 \nQ 2525 409 2770 889 \nQ 3016 1369 3016 2328 \nQ 3016 3291 2770 3770 \nQ 2525 4250 2034 4250 \nz\nM 2034 4750 \nQ 2819 4750 3233 4129 \nQ 3647 3509 3647 2328 \nQ 3647 1150 3233 529 \nQ 2819 -91 2034 -91 \nQ 1250 -91 836 529 \nQ 422 1150 422 2328 \nQ 422 3509 836 4129 \nQ 1250 4750 2034 4750 \nz\n\" id=\"DejaVuSans-30\" transform=\"scale(0.015625)\"/>\n       </defs>\n       <use xlink:href=\"#DejaVuSans-30\"/>\n      </g>\n     </g>\n    </g>\n    <g id=\"xtick_2\">\n     <g id=\"line2d_2\">\n      <g>\n       <use style=\"stroke:#000000;stroke-width:0.8;\" x=\"118.389326\" xlink:href=\"#m1625ff5261\" y=\"224.64\"/>\n      </g>\n     </g>\n     <g id=\"text_2\">\n      <!-- 2 -->\n      <g transform=\"translate(115.208076 239.238437)scale(0.1 -0.1)\">\n       <defs>\n        <path d=\"M 1228 531 \nL 3431 531 \nL 3431 0 \nL 469 0 \nL 469 531 \nQ 828 903 1448 1529 \nQ 2069 2156 2228 2338 \nQ 2531 2678 2651 2914 \nQ 2772 3150 2772 3378 \nQ 2772 3750 2511 3984 \nQ 2250 4219 1831 4219 \nQ 1534 4219 1204 4116 \nQ 875 4013 500 3803 \nL 500 4441 \nQ 881 4594 1212 4672 \nQ 1544 4750 1819 4750 \nQ 2544 4750 2975 4387 \nQ 3406 4025 3406 3419 \nQ 3406 3131 3298 2873 \nQ 3191 2616 2906 2266 \nQ 2828 2175 2409 1742 \nQ 1991 1309 1228 531 \nz\n\" id=\"DejaVuSans-32\" transform=\"scale(0.015625)\"/>\n       </defs>\n       <use xlink:href=\"#DejaVuSans-32\"/>\n      </g>\n     </g>\n    </g>\n    <g id=\"xtick_3\">\n     <g id=\"line2d_3\">\n      <g>\n       <use style=\"stroke:#000000;stroke-width:0.8;\" x=\"161.869846\" xlink:href=\"#m1625ff5261\" y=\"224.64\"/>\n      </g>\n     </g>\n     <g id=\"text_3\">\n      <!-- 4 -->\n      <g transform=\"translate(158.688596 239.238437)scale(0.1 -0.1)\">\n       <defs>\n        <path d=\"M 2419 4116 \nL 825 1625 \nL 2419 1625 \nL 2419 4116 \nz\nM 2253 4666 \nL 3047 4666 \nL 3047 1625 \nL 3713 1625 \nL 3713 1100 \nL 3047 1100 \nL 3047 0 \nL 2419 0 \nL 2419 1100 \nL 313 1100 \nL 313 1709 \nL 2253 4666 \nz\n\" id=\"DejaVuSans-34\" transform=\"scale(0.015625)\"/>\n       </defs>\n       <use xlink:href=\"#DejaVuSans-34\"/>\n      </g>\n     </g>\n    </g>\n    <g id=\"xtick_4\">\n     <g id=\"line2d_4\">\n      <g>\n       <use style=\"stroke:#000000;stroke-width:0.8;\" x=\"205.350365\" xlink:href=\"#m1625ff5261\" y=\"224.64\"/>\n      </g>\n     </g>\n     <g id=\"text_4\">\n      <!-- 6 -->\n      <g transform=\"translate(202.169115 239.238437)scale(0.1 -0.1)\">\n       <defs>\n        <path d=\"M 2113 2584 \nQ 1688 2584 1439 2293 \nQ 1191 2003 1191 1497 \nQ 1191 994 1439 701 \nQ 1688 409 2113 409 \nQ 2538 409 2786 701 \nQ 3034 994 3034 1497 \nQ 3034 2003 2786 2293 \nQ 2538 2584 2113 2584 \nz\nM 3366 4563 \nL 3366 3988 \nQ 3128 4100 2886 4159 \nQ 2644 4219 2406 4219 \nQ 1781 4219 1451 3797 \nQ 1122 3375 1075 2522 \nQ 1259 2794 1537 2939 \nQ 1816 3084 2150 3084 \nQ 2853 3084 3261 2657 \nQ 3669 2231 3669 1497 \nQ 3669 778 3244 343 \nQ 2819 -91 2113 -91 \nQ 1303 -91 875 529 \nQ 447 1150 447 2328 \nQ 447 3434 972 4092 \nQ 1497 4750 2381 4750 \nQ 2619 4750 2861 4703 \nQ 3103 4656 3366 4563 \nz\n\" id=\"DejaVuSans-36\" transform=\"scale(0.015625)\"/>\n       </defs>\n       <use xlink:href=\"#DejaVuSans-36\"/>\n      </g>\n     </g>\n    </g>\n    <g id=\"xtick_5\">\n     <g id=\"line2d_5\">\n      <g>\n       <use style=\"stroke:#000000;stroke-width:0.8;\" x=\"248.830885\" xlink:href=\"#m1625ff5261\" y=\"224.64\"/>\n      </g>\n     </g>\n     <g id=\"text_5\">\n      <!-- 8 -->\n      <g transform=\"translate(245.649635 239.238437)scale(0.1 -0.1)\">\n       <defs>\n        <path d=\"M 2034 2216 \nQ 1584 2216 1326 1975 \nQ 1069 1734 1069 1313 \nQ 1069 891 1326 650 \nQ 1584 409 2034 409 \nQ 2484 409 2743 651 \nQ 3003 894 3003 1313 \nQ 3003 1734 2745 1975 \nQ 2488 2216 2034 2216 \nz\nM 1403 2484 \nQ 997 2584 770 2862 \nQ 544 3141 544 3541 \nQ 544 4100 942 4425 \nQ 1341 4750 2034 4750 \nQ 2731 4750 3128 4425 \nQ 3525 4100 3525 3541 \nQ 3525 3141 3298 2862 \nQ 3072 2584 2669 2484 \nQ 3125 2378 3379 2068 \nQ 3634 1759 3634 1313 \nQ 3634 634 3220 271 \nQ 2806 -91 2034 -91 \nQ 1263 -91 848 271 \nQ 434 634 434 1313 \nQ 434 1759 690 2068 \nQ 947 2378 1403 2484 \nz\nM 1172 3481 \nQ 1172 3119 1398 2916 \nQ 1625 2713 2034 2713 \nQ 2441 2713 2670 2916 \nQ 2900 3119 2900 3481 \nQ 2900 3844 2670 4047 \nQ 2441 4250 2034 4250 \nQ 1625 4250 1398 4047 \nQ 1172 3844 1172 3481 \nz\n\" id=\"DejaVuSans-38\" transform=\"scale(0.015625)\"/>\n       </defs>\n       <use xlink:href=\"#DejaVuSans-38\"/>\n      </g>\n     </g>\n    </g>\n    <g id=\"xtick_6\">\n     <g id=\"line2d_6\">\n      <g>\n       <use style=\"stroke:#000000;stroke-width:0.8;\" x=\"292.311404\" xlink:href=\"#m1625ff5261\" y=\"224.64\"/>\n      </g>\n     </g>\n     <g id=\"text_6\">\n      <!-- 10 -->\n      <g transform=\"translate(285.948904 239.238437)scale(0.1 -0.1)\">\n       <defs>\n        <path d=\"M 794 531 \nL 1825 531 \nL 1825 4091 \nL 703 3866 \nL 703 4441 \nL 1819 4666 \nL 2450 4666 \nL 2450 531 \nL 3481 531 \nL 3481 0 \nL 794 0 \nL 794 531 \nz\n\" id=\"DejaVuSans-31\" transform=\"scale(0.015625)\"/>\n       </defs>\n       <use xlink:href=\"#DejaVuSans-31\"/>\n       <use x=\"63.623047\" xlink:href=\"#DejaVuSans-30\"/>\n      </g>\n     </g>\n    </g>\n    <g id=\"xtick_7\">\n     <g id=\"line2d_7\">\n      <g>\n       <use style=\"stroke:#000000;stroke-width:0.8;\" x=\"335.791924\" xlink:href=\"#m1625ff5261\" y=\"224.64\"/>\n      </g>\n     </g>\n     <g id=\"text_7\">\n      <!-- 12 -->\n      <g transform=\"translate(329.429424 239.238437)scale(0.1 -0.1)\">\n       <use xlink:href=\"#DejaVuSans-31\"/>\n       <use x=\"63.623047\" xlink:href=\"#DejaVuSans-32\"/>\n      </g>\n     </g>\n    </g>\n    <g id=\"xtick_8\">\n     <g id=\"line2d_8\">\n      <g>\n       <use style=\"stroke:#000000;stroke-width:0.8;\" x=\"379.272443\" xlink:href=\"#m1625ff5261\" y=\"224.64\"/>\n      </g>\n     </g>\n     <g id=\"text_8\">\n      <!-- 14 -->\n      <g transform=\"translate(372.909943 239.238437)scale(0.1 -0.1)\">\n       <use xlink:href=\"#DejaVuSans-31\"/>\n       <use x=\"63.623047\" xlink:href=\"#DejaVuSans-34\"/>\n      </g>\n     </g>\n    </g>\n   </g>\n   <g id=\"matplotlib.axis_2\">\n    <g id=\"ytick_1\">\n     <g id=\"line2d_9\">\n      <defs>\n       <path d=\"M 0 0 \nL -3.5 0 \n\" id=\"ma427041edc\" style=\"stroke:#000000;stroke-width:0.8;\"/>\n      </defs>\n      <g>\n       <use style=\"stroke:#000000;stroke-width:0.8;\" x=\"59.690625\" xlink:href=\"#ma427041edc\" y=\"224.64\"/>\n      </g>\n     </g>\n     <g id=\"text_9\">\n      <!-- 0 -->\n      <g transform=\"translate(46.328125 228.439219)scale(0.1 -0.1)\">\n       <use xlink:href=\"#DejaVuSans-30\"/>\n      </g>\n     </g>\n    </g>\n    <g id=\"ytick_2\">\n     <g id=\"line2d_10\">\n      <g>\n       <use style=\"stroke:#000000;stroke-width:0.8;\" x=\"59.690625\" xlink:href=\"#ma427041edc\" y=\"187.792008\"/>\n      </g>\n     </g>\n     <g id=\"text_10\">\n      <!-- 5000 -->\n      <g transform=\"translate(27.240625 191.591227)scale(0.1 -0.1)\">\n       <defs>\n        <path d=\"M 691 4666 \nL 3169 4666 \nL 3169 4134 \nL 1269 4134 \nL 1269 2991 \nQ 1406 3038 1543 3061 \nQ 1681 3084 1819 3084 \nQ 2600 3084 3056 2656 \nQ 3513 2228 3513 1497 \nQ 3513 744 3044 326 \nQ 2575 -91 1722 -91 \nQ 1428 -91 1123 -41 \nQ 819 9 494 109 \nL 494 744 \nQ 775 591 1075 516 \nQ 1375 441 1709 441 \nQ 2250 441 2565 725 \nQ 2881 1009 2881 1497 \nQ 2881 1984 2565 2268 \nQ 2250 2553 1709 2553 \nQ 1456 2553 1204 2497 \nQ 953 2441 691 2322 \nL 691 4666 \nz\n\" id=\"DejaVuSans-35\" transform=\"scale(0.015625)\"/>\n       </defs>\n       <use xlink:href=\"#DejaVuSans-35\"/>\n       <use x=\"63.623047\" xlink:href=\"#DejaVuSans-30\"/>\n       <use x=\"127.246094\" xlink:href=\"#DejaVuSans-30\"/>\n       <use x=\"190.869141\" xlink:href=\"#DejaVuSans-30\"/>\n      </g>\n     </g>\n    </g>\n    <g id=\"ytick_3\">\n     <g id=\"line2d_11\">\n      <g>\n       <use style=\"stroke:#000000;stroke-width:0.8;\" x=\"59.690625\" xlink:href=\"#ma427041edc\" y=\"150.944016\"/>\n      </g>\n     </g>\n     <g id=\"text_11\">\n      <!-- 10000 -->\n      <g transform=\"translate(20.878125 154.743235)scale(0.1 -0.1)\">\n       <use xlink:href=\"#DejaVuSans-31\"/>\n       <use x=\"63.623047\" xlink:href=\"#DejaVuSans-30\"/>\n       <use x=\"127.246094\" xlink:href=\"#DejaVuSans-30\"/>\n       <use x=\"190.869141\" xlink:href=\"#DejaVuSans-30\"/>\n       <use x=\"254.492188\" xlink:href=\"#DejaVuSans-30\"/>\n      </g>\n     </g>\n    </g>\n    <g id=\"ytick_4\">\n     <g id=\"line2d_12\">\n      <g>\n       <use style=\"stroke:#000000;stroke-width:0.8;\" x=\"59.690625\" xlink:href=\"#ma427041edc\" y=\"114.096024\"/>\n      </g>\n     </g>\n     <g id=\"text_12\">\n      <!-- 15000 -->\n      <g transform=\"translate(20.878125 117.895243)scale(0.1 -0.1)\">\n       <use xlink:href=\"#DejaVuSans-31\"/>\n       <use x=\"63.623047\" xlink:href=\"#DejaVuSans-35\"/>\n       <use x=\"127.246094\" xlink:href=\"#DejaVuSans-30\"/>\n       <use x=\"190.869141\" xlink:href=\"#DejaVuSans-30\"/>\n       <use x=\"254.492188\" xlink:href=\"#DejaVuSans-30\"/>\n      </g>\n     </g>\n    </g>\n    <g id=\"ytick_5\">\n     <g id=\"line2d_13\">\n      <g>\n       <use style=\"stroke:#000000;stroke-width:0.8;\" x=\"59.690625\" xlink:href=\"#ma427041edc\" y=\"77.248033\"/>\n      </g>\n     </g>\n     <g id=\"text_13\">\n      <!-- 20000 -->\n      <g transform=\"translate(20.878125 81.047251)scale(0.1 -0.1)\">\n       <use xlink:href=\"#DejaVuSans-32\"/>\n       <use x=\"63.623047\" xlink:href=\"#DejaVuSans-30\"/>\n       <use x=\"127.246094\" xlink:href=\"#DejaVuSans-30\"/>\n       <use x=\"190.869141\" xlink:href=\"#DejaVuSans-30\"/>\n       <use x=\"254.492188\" xlink:href=\"#DejaVuSans-30\"/>\n      </g>\n     </g>\n    </g>\n    <g id=\"ytick_6\">\n     <g id=\"line2d_14\">\n      <g>\n       <use style=\"stroke:#000000;stroke-width:0.8;\" x=\"59.690625\" xlink:href=\"#ma427041edc\" y=\"40.400041\"/>\n      </g>\n     </g>\n     <g id=\"text_14\">\n      <!-- 25000 -->\n      <g transform=\"translate(20.878125 44.199259)scale(0.1 -0.1)\">\n       <use xlink:href=\"#DejaVuSans-32\"/>\n       <use x=\"63.623047\" xlink:href=\"#DejaVuSans-35\"/>\n       <use x=\"127.246094\" xlink:href=\"#DejaVuSans-30\"/>\n       <use x=\"190.869141\" xlink:href=\"#DejaVuSans-30\"/>\n       <use x=\"254.492188\" xlink:href=\"#DejaVuSans-30\"/>\n      </g>\n     </g>\n    </g>\n    <g id=\"text_15\">\n     <!-- Frequency -->\n     <g transform=\"translate(14.798438 141.749687)rotate(-90)scale(0.1 -0.1)\">\n      <defs>\n       <path d=\"M 628 4666 \nL 3309 4666 \nL 3309 4134 \nL 1259 4134 \nL 1259 2759 \nL 3109 2759 \nL 3109 2228 \nL 1259 2228 \nL 1259 0 \nL 628 0 \nL 628 4666 \nz\n\" id=\"DejaVuSans-46\" transform=\"scale(0.015625)\"/>\n       <path d=\"M 2631 2963 \nQ 2534 3019 2420 3045 \nQ 2306 3072 2169 3072 \nQ 1681 3072 1420 2755 \nQ 1159 2438 1159 1844 \nL 1159 0 \nL 581 0 \nL 581 3500 \nL 1159 3500 \nL 1159 2956 \nQ 1341 3275 1631 3429 \nQ 1922 3584 2338 3584 \nQ 2397 3584 2469 3576 \nQ 2541 3569 2628 3553 \nL 2631 2963 \nz\n\" id=\"DejaVuSans-72\" transform=\"scale(0.015625)\"/>\n       <path d=\"M 3597 1894 \nL 3597 1613 \nL 953 1613 \nQ 991 1019 1311 708 \nQ 1631 397 2203 397 \nQ 2534 397 2845 478 \nQ 3156 559 3463 722 \nL 3463 178 \nQ 3153 47 2828 -22 \nQ 2503 -91 2169 -91 \nQ 1331 -91 842 396 \nQ 353 884 353 1716 \nQ 353 2575 817 3079 \nQ 1281 3584 2069 3584 \nQ 2775 3584 3186 3129 \nQ 3597 2675 3597 1894 \nz\nM 3022 2063 \nQ 3016 2534 2758 2815 \nQ 2500 3097 2075 3097 \nQ 1594 3097 1305 2825 \nQ 1016 2553 972 2059 \nL 3022 2063 \nz\n\" id=\"DejaVuSans-65\" transform=\"scale(0.015625)\"/>\n       <path d=\"M 947 1747 \nQ 947 1113 1208 752 \nQ 1469 391 1925 391 \nQ 2381 391 2643 752 \nQ 2906 1113 2906 1747 \nQ 2906 2381 2643 2742 \nQ 2381 3103 1925 3103 \nQ 1469 3103 1208 2742 \nQ 947 2381 947 1747 \nz\nM 2906 525 \nQ 2725 213 2448 61 \nQ 2172 -91 1784 -91 \nQ 1150 -91 751 415 \nQ 353 922 353 1747 \nQ 353 2572 751 3078 \nQ 1150 3584 1784 3584 \nQ 2172 3584 2448 3432 \nQ 2725 3281 2906 2969 \nL 2906 3500 \nL 3481 3500 \nL 3481 -1331 \nL 2906 -1331 \nL 2906 525 \nz\n\" id=\"DejaVuSans-71\" transform=\"scale(0.015625)\"/>\n       <path d=\"M 544 1381 \nL 544 3500 \nL 1119 3500 \nL 1119 1403 \nQ 1119 906 1312 657 \nQ 1506 409 1894 409 \nQ 2359 409 2629 706 \nQ 2900 1003 2900 1516 \nL 2900 3500 \nL 3475 3500 \nL 3475 0 \nL 2900 0 \nL 2900 538 \nQ 2691 219 2414 64 \nQ 2138 -91 1772 -91 \nQ 1169 -91 856 284 \nQ 544 659 544 1381 \nz\nM 1991 3584 \nL 1991 3584 \nz\n\" id=\"DejaVuSans-75\" transform=\"scale(0.015625)\"/>\n       <path d=\"M 3513 2113 \nL 3513 0 \nL 2938 0 \nL 2938 2094 \nQ 2938 2591 2744 2837 \nQ 2550 3084 2163 3084 \nQ 1697 3084 1428 2787 \nQ 1159 2491 1159 1978 \nL 1159 0 \nL 581 0 \nL 581 3500 \nL 1159 3500 \nL 1159 2956 \nQ 1366 3272 1645 3428 \nQ 1925 3584 2291 3584 \nQ 2894 3584 3203 3211 \nQ 3513 2838 3513 2113 \nz\n\" id=\"DejaVuSans-6e\" transform=\"scale(0.015625)\"/>\n       <path d=\"M 3122 3366 \nL 3122 2828 \nQ 2878 2963 2633 3030 \nQ 2388 3097 2138 3097 \nQ 1578 3097 1268 2742 \nQ 959 2388 959 1747 \nQ 959 1106 1268 751 \nQ 1578 397 2138 397 \nQ 2388 397 2633 464 \nQ 2878 531 3122 666 \nL 3122 134 \nQ 2881 22 2623 -34 \nQ 2366 -91 2075 -91 \nQ 1284 -91 818 406 \nQ 353 903 353 1747 \nQ 353 2603 823 3093 \nQ 1294 3584 2113 3584 \nQ 2378 3584 2631 3529 \nQ 2884 3475 3122 3366 \nz\n\" id=\"DejaVuSans-63\" transform=\"scale(0.015625)\"/>\n       <path d=\"M 2059 -325 \nQ 1816 -950 1584 -1140 \nQ 1353 -1331 966 -1331 \nL 506 -1331 \nL 506 -850 \nL 844 -850 \nQ 1081 -850 1212 -737 \nQ 1344 -625 1503 -206 \nL 1606 56 \nL 191 3500 \nL 800 3500 \nL 1894 763 \nL 2988 3500 \nL 3597 3500 \nL 2059 -325 \nz\n\" id=\"DejaVuSans-79\" transform=\"scale(0.015625)\"/>\n      </defs>\n      <use xlink:href=\"#DejaVuSans-46\"/>\n      <use x=\"50.269531\" xlink:href=\"#DejaVuSans-72\"/>\n      <use x=\"89.132812\" xlink:href=\"#DejaVuSans-65\"/>\n      <use x=\"150.65625\" xlink:href=\"#DejaVuSans-71\"/>\n      <use x=\"214.132812\" xlink:href=\"#DejaVuSans-75\"/>\n      <use x=\"277.511719\" xlink:href=\"#DejaVuSans-65\"/>\n      <use x=\"339.035156\" xlink:href=\"#DejaVuSans-6e\"/>\n      <use x=\"402.414062\" xlink:href=\"#DejaVuSans-63\"/>\n      <use x=\"457.394531\" xlink:href=\"#DejaVuSans-79\"/>\n     </g>\n    </g>\n   </g>\n   <g id=\"patch_23\">\n    <path d=\"M 59.690625 224.64 \nL 59.690625 7.2 \n\" style=\"fill:none;stroke:#000000;stroke-linecap:square;stroke-linejoin:miter;stroke-width:0.8;\"/>\n   </g>\n   <g id=\"patch_24\">\n    <path d=\"M 394.490625 224.64 \nL 394.490625 7.2 \n\" style=\"fill:none;stroke:#000000;stroke-linecap:square;stroke-linejoin:miter;stroke-width:0.8;\"/>\n   </g>\n   <g id=\"patch_25\">\n    <path d=\"M 59.690625 224.64 \nL 394.490625 224.64 \n\" style=\"fill:none;stroke:#000000;stroke-linecap:square;stroke-linejoin:miter;stroke-width:0.8;\"/>\n   </g>\n   <g id=\"patch_26\">\n    <path d=\"M 59.690625 7.2 \nL 394.490625 7.2 \n\" style=\"fill:none;stroke:#000000;stroke-linecap:square;stroke-linejoin:miter;stroke-width:0.8;\"/>\n   </g>\n  </g>\n </g>\n <defs>\n  <clipPath id=\"p703964015f\">\n   <rect height=\"217.44\" width=\"334.8\" x=\"59.690625\" y=\"7.2\"/>\n  </clipPath>\n </defs>\n</svg>\n",
      "image/png": "[encoded data removed]"
     },
     "metadata": {
      "needs_background": "light"
     }
    }
   ],
   "source": [
    "prediction_df.predicted_topic.plot(kind='hist', bins=20);"
   ]
  },
  {
   "cell_type": "code",
   "execution_count": 9,
   "metadata": {},
   "outputs": [
    {
     "output_type": "execute_result",
     "data": {
      "text/plain": [
       "            id                                      stemmed_words  \\\n",
       "314        516  [вид, потенциа, пенсион, накоплен, стран, заяв...   \n",
       "505        836  [рад, министерств, финанс, представ, нов, сист...   \n",
       "745       1232  [разработа, страхован, жизн, тех, страхован, д...   \n",
       "1747      2870  [соч, развива, параллельн, минфин, нов, систем...   \n",
       "1966      3198  [министерств, финанс, сообщ, дета, законопроек...   \n",
       "...        ...                                                ...   \n",
       "103099  175400  [вариант, стратег, пенсион, реформ, направл, т...   \n",
       "103740  176287  [поддержива, инициатив, част, пенс, основ, пре...   \n",
       "103859  176425  [россиян, переход, сист, пенсион, накоплен, по...   \n",
       "104093  176807  [долгосрочн, прогноз, предполага, проведен, пе...   \n",
       "104420  177301  [главн, проблем, пенсион, реформ, популизм, по...   \n",
       "\n",
       "                                                       tf  \\\n",
       "314     (0.0, 0.0, 0.0, 0.0, 0.0, 0.0, 0.0, 2.0, 0.0, ...   \n",
       "505     (0.0, 1.0, 0.0, 0.0, 0.0, 4.0, 1.0, 0.0, 0.0, ...   \n",
       "745     (0.0, 0.0, 0.0, 0.0, 0.0, 0.0, 0.0, 0.0, 0.0, ...   \n",
       "1747    (0.0, 0.0, 0.0, 0.0, 0.0, 1.0, 0.0, 0.0, 0.0, ...   \n",
       "1966    (1.0, 0.0, 0.0, 0.0, 0.0, 4.0, 0.0, 0.0, 1.0, ...   \n",
       "...                                                   ...   \n",
       "103099  (2.0, 0.0, 0.0, 0.0, 0.0, 0.0, 0.0, 0.0, 0.0, ...   \n",
       "103740  (0.0, 0.0, 0.0, 0.0, 0.0, 0.0, 0.0, 1.0, 0.0, ...   \n",
       "103859  (0.0, 1.0, 0.0, 0.0, 0.0, 0.0, 0.0, 1.0, 1.0, ...   \n",
       "104093  (0.0, 0.0, 0.0, 0.0, 0.0, 0.0, 0.0, 0.0, 0.0, ...   \n",
       "104420  (0.0, 1.0, 0.0, 0.0, 1.0, 3.0, 0.0, 2.0, 1.0, ...   \n",
       "\n",
       "                                        topicDistribution  predicted_topic  \n",
       "314     [0.0008469514764939144, 0.0008762219063537814,...                4  \n",
       "505     [0.00045827041505580406, 0.0004741080424840586...                4  \n",
       "745     [0.0012711222821679764, 0.0013150520058779972,...                4  \n",
       "1747    [0.0008023291064739713, 0.0008300571886347148,...                4  \n",
       "1966    [0.0005644287586321742, 0.0005839353731964177,...                4  \n",
       "...                                                   ...              ...  \n",
       "103099  [0.0004688520877802065, 0.0004850555027127586,...                4  \n",
       "103740  [0.00089682985884966, 0.0009278241349495869, 0...                4  \n",
       "103859  [0.0005697074471090656, 0.000589396457874086, ...                4  \n",
       "104093  [0.0009240387345465819, 0.0009559734241749246,...                4  \n",
       "104420  [0.00024179724816454184, 0.0002501537083262438...                4  \n",
       "\n",
       "[351 rows x 5 columns]"
      ],
      "text/html": "<div>\n<style scoped>\n    .dataframe tbody tr th:only-of-type {\n        vertical-align: middle;\n    }\n\n    .dataframe tbody tr th {\n        vertical-align: top;\n    }\n\n    .dataframe thead th {\n        text-align: right;\n    }\n</style>\n<table border=\"1\" class=\"dataframe\">\n  <thead>\n    <tr style=\"text-align: right;\">\n      <th></th>\n      <th>id</th>\n      <th>stemmed_words</th>\n      <th>tf</th>\n      <th>topicDistribution</th>\n      <th>predicted_topic</th>\n    </tr>\n  </thead>\n  <tbody>\n    <tr>\n      <th>314</th>\n      <td>516</td>\n      <td>[вид, потенциа, пенсион, накоплен, стран, заяв...</td>\n      <td>(0.0, 0.0, 0.0, 0.0, 0.0, 0.0, 0.0, 2.0, 0.0, ...</td>\n      <td>[0.0008469514764939144, 0.0008762219063537814,...</td>\n      <td>4</td>\n    </tr>\n    <tr>\n      <th>505</th>\n      <td>836</td>\n      <td>[рад, министерств, финанс, представ, нов, сист...</td>\n      <td>(0.0, 1.0, 0.0, 0.0, 0.0, 4.0, 1.0, 0.0, 0.0, ...</td>\n      <td>[0.00045827041505580406, 0.0004741080424840586...</td>\n      <td>4</td>\n    </tr>\n    <tr>\n      <th>745</th>\n      <td>1232</td>\n      <td>[разработа, страхован, жизн, тех, страхован, д...</td>\n      <td>(0.0, 0.0, 0.0, 0.0, 0.0, 0.0, 0.0, 0.0, 0.0, ...</td>\n      <td>[0.0012711222821679764, 0.0013150520058779972,...</td>\n      <td>4</td>\n    </tr>\n    <tr>\n      <th>1747</th>\n      <td>2870</td>\n      <td>[соч, развива, параллельн, минфин, нов, систем...</td>\n      <td>(0.0, 0.0, 0.0, 0.0, 0.0, 1.0, 0.0, 0.0, 0.0, ...</td>\n      <td>[0.0008023291064739713, 0.0008300571886347148,...</td>\n      <td>4</td>\n    </tr>\n    <tr>\n      <th>1966</th>\n      <td>3198</td>\n      <td>[министерств, финанс, сообщ, дета, законопроек...</td>\n      <td>(1.0, 0.0, 0.0, 0.0, 0.0, 4.0, 0.0, 0.0, 1.0, ...</td>\n      <td>[0.0005644287586321742, 0.0005839353731964177,...</td>\n      <td>4</td>\n    </tr>\n    <tr>\n      <th>...</th>\n      <td>...</td>\n      <td>...</td>\n      <td>...</td>\n      <td>...</td>\n      <td>...</td>\n    </tr>\n    <tr>\n      <th>103099</th>\n      <td>175400</td>\n      <td>[вариант, стратег, пенсион, реформ, направл, т...</td>\n      <td>(2.0, 0.0, 0.0, 0.0, 0.0, 0.0, 0.0, 0.0, 0.0, ...</td>\n      <td>[0.0004688520877802065, 0.0004850555027127586,...</td>\n      <td>4</td>\n    </tr>\n    <tr>\n      <th>103740</th>\n      <td>176287</td>\n      <td>[поддержива, инициатив, част, пенс, основ, пре...</td>\n      <td>(0.0, 0.0, 0.0, 0.0, 0.0, 0.0, 0.0, 1.0, 0.0, ...</td>\n      <td>[0.00089682985884966, 0.0009278241349495869, 0...</td>\n      <td>4</td>\n    </tr>\n    <tr>\n      <th>103859</th>\n      <td>176425</td>\n      <td>[россиян, переход, сист, пенсион, накоплен, по...</td>\n      <td>(0.0, 1.0, 0.0, 0.0, 0.0, 0.0, 0.0, 1.0, 1.0, ...</td>\n      <td>[0.0005697074471090656, 0.000589396457874086, ...</td>\n      <td>4</td>\n    </tr>\n    <tr>\n      <th>104093</th>\n      <td>176807</td>\n      <td>[долгосрочн, прогноз, предполага, проведен, пе...</td>\n      <td>(0.0, 0.0, 0.0, 0.0, 0.0, 0.0, 0.0, 0.0, 0.0, ...</td>\n      <td>[0.0009240387345465819, 0.0009559734241749246,...</td>\n      <td>4</td>\n    </tr>\n    <tr>\n      <th>104420</th>\n      <td>177301</td>\n      <td>[главн, проблем, пенсион, реформ, популизм, по...</td>\n      <td>(0.0, 1.0, 0.0, 0.0, 1.0, 3.0, 0.0, 2.0, 1.0, ...</td>\n      <td>[0.00024179724816454184, 0.0002501537083262438...</td>\n      <td>4</td>\n    </tr>\n  </tbody>\n</table>\n<p>351 rows × 5 columns</p>\n</div>"
     },
     "metadata": {},
     "execution_count": 9
    }
   ],
   "source": [
    "prediction_df[prediction_df.predicted_topic == 4]"
   ]
  },
  {
   "cell_type": "code",
   "execution_count": 10,
   "metadata": {},
   "outputs": [
    {
     "output_type": "execute_result",
     "data": {
      "text/plain": [
       "            id                                               text\n",
       "0            1  МОСКВА, 17 ноября/ Радио Sputnik. Белоруссия р...\n",
       "1            3  ДУБАЙ, 17 ноя - РИА Новости. Министр промышлен...\n",
       "2            4  МИНСК, 17 ноя - РИА Новости. Белоруссия рассчи...\n",
       "3            5  МИНСК, 17 ноя — РИА Новости. Напряженные отнош...\n",
       "4            6  МОСКВА, 17 ноя — РИА Новости. Эксперт по финан...\n",
       "...        ...                                                ...\n",
       "104842  181653  Премьер-министр РФ Дмитрий Медведев считает, ч...\n",
       "104843  181765  Госдума ратифицировала протокол о присоединени...\n",
       "104844  182043  На встрече Путина и Титова речь шла о внесении...\n",
       "104845  182433  Президент РФ Владимир Путин 28 июня представил...\n",
       "104846  182434  Президент РФ Владимир Путин 28 июня представил...\n",
       "\n",
       "[104847 rows x 2 columns]"
      ],
      "text/html": "<div>\n<style scoped>\n    .dataframe tbody tr th:only-of-type {\n        vertical-align: middle;\n    }\n\n    .dataframe tbody tr th {\n        vertical-align: top;\n    }\n\n    .dataframe thead th {\n        text-align: right;\n    }\n</style>\n<table border=\"1\" class=\"dataframe\">\n  <thead>\n    <tr style=\"text-align: right;\">\n      <th></th>\n      <th>id</th>\n      <th>text</th>\n    </tr>\n  </thead>\n  <tbody>\n    <tr>\n      <th>0</th>\n      <td>1</td>\n      <td>МОСКВА, 17 ноября/ Радио Sputnik. Белоруссия р...</td>\n    </tr>\n    <tr>\n      <th>1</th>\n      <td>3</td>\n      <td>ДУБАЙ, 17 ноя - РИА Новости. Министр промышлен...</td>\n    </tr>\n    <tr>\n      <th>2</th>\n      <td>4</td>\n      <td>МИНСК, 17 ноя - РИА Новости. Белоруссия рассчи...</td>\n    </tr>\n    <tr>\n      <th>3</th>\n      <td>5</td>\n      <td>МИНСК, 17 ноя — РИА Новости. Напряженные отнош...</td>\n    </tr>\n    <tr>\n      <th>4</th>\n      <td>6</td>\n      <td>МОСКВА, 17 ноя — РИА Новости. Эксперт по финан...</td>\n    </tr>\n    <tr>\n      <th>...</th>\n      <td>...</td>\n      <td>...</td>\n    </tr>\n    <tr>\n      <th>104842</th>\n      <td>181653</td>\n      <td>Премьер-министр РФ Дмитрий Медведев считает, ч...</td>\n    </tr>\n    <tr>\n      <th>104843</th>\n      <td>181765</td>\n      <td>Госдума ратифицировала протокол о присоединени...</td>\n    </tr>\n    <tr>\n      <th>104844</th>\n      <td>182043</td>\n      <td>На встрече Путина и Титова речь шла о внесении...</td>\n    </tr>\n    <tr>\n      <th>104845</th>\n      <td>182433</td>\n      <td>Президент РФ Владимир Путин 28 июня представил...</td>\n    </tr>\n    <tr>\n      <th>104846</th>\n      <td>182434</td>\n      <td>Президент РФ Владимир Путин 28 июня представил...</td>\n    </tr>\n  </tbody>\n</table>\n<p>104847 rows × 2 columns</p>\n</div>"
     },
     "metadata": {},
     "execution_count": 10
    }
   ],
   "source": [
    "inflation_df = pd.read_csv('data/russian_frame.csv')[['id', 'text']]\n",
    "inflation_df"
   ]
  },
  {
   "cell_type": "code",
   "execution_count": 11,
   "metadata": {},
   "outputs": [],
   "source": [
    "def check_inflation(text):\n",
    "    if 'рост цен' in text:\n",
    "        return 1\n",
    "    else:\n",
    "        return 0\n",
    "inflation_df['related'] = inflation_df.text.map(check_inflation)"
   ]
  },
  {
   "cell_type": "code",
   "execution_count": 12,
   "metadata": {},
   "outputs": [
    {
     "output_type": "execute_result",
     "data": {
      "text/plain": [
       "            id                                               text  related\n",
       "26          35  МОСКВА, 15 ноя - РИА Новости. Федеральная анти...        1\n",
       "117        171  МОСКВА, 13 ноя - РИА Новости. Росстат продолжа...        1\n",
       "172        261  МОСКВА, 12 ноя - РИА Новости. Дефицита гречихи...        1\n",
       "270        446  МОСКВА, 7 ноя - РИА Новости. Укрепление рубля ...        1\n",
       "272        450  МОСКВА, 7 ноя - РИА Новости. Федеральная антим...        1\n",
       "...        ...                                                ...      ...\n",
       "104405  177281  \\nБЛАГОВЕЩЕНСК, 30 окт - РИА Новости, Светлана...        1\n",
       "104455  177373  \\nМОСКВА, 26 окт - РИА Новости. Индекс цен про...        1\n",
       "104604  177612  \\nМОСКВА, 23 окт - РИА Новости. Государственны...        1\n",
       "104653  177702  \\nМОСКВА, 19 окт - РИА Новости. Стоимость прое...        1\n",
       "104779  178395  \\nМОСКВА, 2 окт - РИА Новости. Президент РФ Вл...        1\n",
       "\n",
       "[1232 rows x 3 columns]"
      ],
      "text/html": "<div>\n<style scoped>\n    .dataframe tbody tr th:only-of-type {\n        vertical-align: middle;\n    }\n\n    .dataframe tbody tr th {\n        vertical-align: top;\n    }\n\n    .dataframe thead th {\n        text-align: right;\n    }\n</style>\n<table border=\"1\" class=\"dataframe\">\n  <thead>\n    <tr style=\"text-align: right;\">\n      <th></th>\n      <th>id</th>\n      <th>text</th>\n      <th>related</th>\n    </tr>\n  </thead>\n  <tbody>\n    <tr>\n      <th>26</th>\n      <td>35</td>\n      <td>МОСКВА, 15 ноя - РИА Новости. Федеральная анти...</td>\n      <td>1</td>\n    </tr>\n    <tr>\n      <th>117</th>\n      <td>171</td>\n      <td>МОСКВА, 13 ноя - РИА Новости. Росстат продолжа...</td>\n      <td>1</td>\n    </tr>\n    <tr>\n      <th>172</th>\n      <td>261</td>\n      <td>МОСКВА, 12 ноя - РИА Новости. Дефицита гречихи...</td>\n      <td>1</td>\n    </tr>\n    <tr>\n      <th>270</th>\n      <td>446</td>\n      <td>МОСКВА, 7 ноя - РИА Новости. Укрепление рубля ...</td>\n      <td>1</td>\n    </tr>\n    <tr>\n      <th>272</th>\n      <td>450</td>\n      <td>МОСКВА, 7 ноя - РИА Новости. Федеральная антим...</td>\n      <td>1</td>\n    </tr>\n    <tr>\n      <th>...</th>\n      <td>...</td>\n      <td>...</td>\n      <td>...</td>\n    </tr>\n    <tr>\n      <th>104405</th>\n      <td>177281</td>\n      <td>\\nБЛАГОВЕЩЕНСК, 30 окт - РИА Новости, Светлана...</td>\n      <td>1</td>\n    </tr>\n    <tr>\n      <th>104455</th>\n      <td>177373</td>\n      <td>\\nМОСКВА, 26 окт - РИА Новости. Индекс цен про...</td>\n      <td>1</td>\n    </tr>\n    <tr>\n      <th>104604</th>\n      <td>177612</td>\n      <td>\\nМОСКВА, 23 окт - РИА Новости. Государственны...</td>\n      <td>1</td>\n    </tr>\n    <tr>\n      <th>104653</th>\n      <td>177702</td>\n      <td>\\nМОСКВА, 19 окт - РИА Новости. Стоимость прое...</td>\n      <td>1</td>\n    </tr>\n    <tr>\n      <th>104779</th>\n      <td>178395</td>\n      <td>\\nМОСКВА, 2 окт - РИА Новости. Президент РФ Вл...</td>\n      <td>1</td>\n    </tr>\n  </tbody>\n</table>\n<p>1232 rows × 3 columns</p>\n</div>"
     },
     "metadata": {},
     "execution_count": 12
    }
   ],
   "source": [
    "inflation_df[inflation_df.related == 1]"
   ]
  },
  {
   "cell_type": "code",
   "execution_count": 31,
   "metadata": {},
   "outputs": [
    {
     "output_type": "execute_result",
     "data": {
      "text/plain": [
       "array([DenseVector([0.0006, 0.9083, 0.0006, 0.0006, 0.0006, 0.0006, 0.0007, 0.0006, 0.0006, 0.0006, 0.0836, 0.0008, 0.0006, 0.0007, 0.0007])],\n",
       "      dtype=object)"
      ]
     },
     "metadata": {},
     "execution_count": 31
    }
   ],
   "source": [
    "prediction_df[prediction_df.id == 177373].topicDistribution.values"
   ]
  },
  {
   "cell_type": "code",
   "execution_count": 14,
   "metadata": {},
   "outputs": [],
   "source": [
    "test = inflation_df.merge(prediction_df[['id', 'predicted_topic']], on='id', how='left')"
   ]
  },
  {
   "cell_type": "code",
   "execution_count": 15,
   "metadata": {},
   "outputs": [
    {
     "output_type": "execute_result",
     "data": {
      "text/plain": [
       "10    340\n",
       "1     275\n",
       "11    171\n",
       "14    134\n",
       "13     98\n",
       "0      61\n",
       "12     61\n",
       "7      51\n",
       "6      26\n",
       "3       9\n",
       "5       3\n",
       "8       2\n",
       "4       1\n",
       "Name: predicted_topic, dtype: int64"
      ]
     },
     "metadata": {},
     "execution_count": 15
    }
   ],
   "source": [
    "test[test.related == 1].predicted_topic.value_counts()"
   ]
  },
  {
   "cell_type": "code",
   "execution_count": 32,
   "metadata": {},
   "outputs": [
    {
     "output_type": "execute_result",
     "data": {
      "text/plain": [
       "      id                                               text  related  \\\n",
       "20    25  МОСКВА, 15 ноя — РИА Новости. \"Газпром экспорт...        0   \n",
       "21    27  Польша \"прекрасно\" обойдется без российского г...        0   \n",
       "37    50  ВАРШАВА, 15 ноя — РИА Новости. Польша уверена,...        0   \n",
       "57    76  МОСКВА, 15 ноя - РИА Новости. Минэнерго РФ ожи...        0   \n",
       "78   119  МОСКВА, 14 ноя — РИА Новости. Стоимость нового...        0   \n",
       "111  164  МОСКВА, 13 ноя - РИА Новости. Российский эколо...        0   \n",
       "134  203  ЮЖНО-САХАЛИНСК, 13 ноя – РИА Новости. Резидент...        0   \n",
       "151  226  МОСКВА, 12 ноя - РИА Новости. Независимые росс...        0   \n",
       "171  260  МОСКВА, 12 ноября/ Радио Sputnik. Торжественна...        0   \n",
       "174  263  ПЕКИН, 12 ноя – РИА Новости. Официальный предс...        0   \n",
       "\n",
       "     predicted_topic  \n",
       "20                 1  \n",
       "21                 1  \n",
       "37                 1  \n",
       "57                 1  \n",
       "78                 1  \n",
       "111                1  \n",
       "134                1  \n",
       "151                1  \n",
       "171                1  \n",
       "174                1  "
      ],
      "text/html": "<div>\n<style scoped>\n    .dataframe tbody tr th:only-of-type {\n        vertical-align: middle;\n    }\n\n    .dataframe tbody tr th {\n        vertical-align: top;\n    }\n\n    .dataframe thead th {\n        text-align: right;\n    }\n</style>\n<table border=\"1\" class=\"dataframe\">\n  <thead>\n    <tr style=\"text-align: right;\">\n      <th></th>\n      <th>id</th>\n      <th>text</th>\n      <th>related</th>\n      <th>predicted_topic</th>\n    </tr>\n  </thead>\n  <tbody>\n    <tr>\n      <th>20</th>\n      <td>25</td>\n      <td>МОСКВА, 15 ноя — РИА Новости. \"Газпром экспорт...</td>\n      <td>0</td>\n      <td>1</td>\n    </tr>\n    <tr>\n      <th>21</th>\n      <td>27</td>\n      <td>Польша \"прекрасно\" обойдется без российского г...</td>\n      <td>0</td>\n      <td>1</td>\n    </tr>\n    <tr>\n      <th>37</th>\n      <td>50</td>\n      <td>ВАРШАВА, 15 ноя — РИА Новости. Польша уверена,...</td>\n      <td>0</td>\n      <td>1</td>\n    </tr>\n    <tr>\n      <th>57</th>\n      <td>76</td>\n      <td>МОСКВА, 15 ноя - РИА Новости. Минэнерго РФ ожи...</td>\n      <td>0</td>\n      <td>1</td>\n    </tr>\n    <tr>\n      <th>78</th>\n      <td>119</td>\n      <td>МОСКВА, 14 ноя — РИА Новости. Стоимость нового...</td>\n      <td>0</td>\n      <td>1</td>\n    </tr>\n    <tr>\n      <th>111</th>\n      <td>164</td>\n      <td>МОСКВА, 13 ноя - РИА Новости. Российский эколо...</td>\n      <td>0</td>\n      <td>1</td>\n    </tr>\n    <tr>\n      <th>134</th>\n      <td>203</td>\n      <td>ЮЖНО-САХАЛИНСК, 13 ноя – РИА Новости. Резидент...</td>\n      <td>0</td>\n      <td>1</td>\n    </tr>\n    <tr>\n      <th>151</th>\n      <td>226</td>\n      <td>МОСКВА, 12 ноя - РИА Новости. Независимые росс...</td>\n      <td>0</td>\n      <td>1</td>\n    </tr>\n    <tr>\n      <th>171</th>\n      <td>260</td>\n      <td>МОСКВА, 12 ноября/ Радио Sputnik. Торжественна...</td>\n      <td>0</td>\n      <td>1</td>\n    </tr>\n    <tr>\n      <th>174</th>\n      <td>263</td>\n      <td>ПЕКИН, 12 ноя – РИА Новости. Официальный предс...</td>\n      <td>0</td>\n      <td>1</td>\n    </tr>\n  </tbody>\n</table>\n</div>"
     },
     "metadata": {},
     "execution_count": 32
    }
   ],
   "source": [
    "test[test.predicted_topic == 1].iloc[:10]"
   ]
  },
  {
   "cell_type": "code",
   "execution_count": 33,
   "metadata": {},
   "outputs": [
    {
     "output_type": "execute_result",
     "data": {
      "text/plain": [
       "array(['МОСКВА, 14 ноя — РИА Новости. Стоимость нового легкого самолета на замену кукурузника Ан-2 не должна превышать 120 миллионов рублей, а цена за час эксплуатации не должна быть больше 30 тысяч рублей, сообщает в четверг \"Уральский завод гражданской авиации\" (УЗГА).Конкурс на разработку этого самолета выиграла компания \"Байкал-Инжиниринг\", которая входит в состав УЗГА.\"Целевая стоимость самолета при серийном производстве не превышает 120 миллионов рублей в ценах 2020 года, а целевая себестоимость эксплуатации самолета в пересчете на летный час (без учета стоимости владения) — не более 30 тысяч рублей\", — говорится в релизе.В пресс-службе рассказали, что Минпромторг задал требования, по многим параметрам превосходящие аналогичные характеристики Ан-2, а именно: расчетная крейсерская скорость полета — не менее 300 километров в час, расчетная практическая дальность полета с максимальной коммерческой нагрузкой — две тонны и с аварийным навигационным запасом на 45 минут полета — не менее 1,5 тысячи километров.Максимальный взлетный вес нового самолета должен составить 4,8 тонны, планер должен состоять из материалов на основе алюминиевых сплавов, что облегчит его ремонт в полевых условиях и позволит хранить без ангара.Новый самолет, как предполагается, сможет перевозить девять пассажиров с возможностью увеличения в будущем до 12.Сам проект оценивается в 4,5 миллиарда рублей, включая типовую сертификацию.'],\n",
       "      dtype=object)"
      ]
     },
     "metadata": {},
     "execution_count": 33
    }
   ],
   "source": [
    "test[test.id == 119].text.values"
   ]
  },
  {
   "cell_type": "code",
   "execution_count": 18,
   "metadata": {},
   "outputs": [
    {
     "output_type": "execute_result",
     "data": {
      "text/plain": [
       "array([list(['федеральн', 'антимонопольн', 'фас', 'розничн', 'фас', 'андр', 'отвеч', 'соответств', 'указа', 'ведомств', 'вид', 'глобальн', 'пробл', 'дан', 'запас', 'плюс', 'урожа', 'полност', 'наш', 'потребн', 'никак', 'серьезн', 'пробл', 'должн', 'перв', 'втор', 'прежд', 'контрол', 'перв', 'плеч', 'производител', 'розниц', 'конкуренц', 'существ', 'люб', 'посмотрет', 'наскольк', 'замглав', 'фас', 'союз', 'предприят', 'рсмкп', 'опубликова', 'обращен', 'глав', 'фас', 'котор', 'происход', 'низк', 'текущ', 'антимонопольн', 'реш', 'провест', 'проверк', 'производител', 'фас', 'состоя', 'совещан', 'служб', 'представител', 'орган', 'управлен', 'апк', 'регион', 'ведомств', 'регион', 'основн', 'производител', 'культур', 'ситуац', 'наход', 'контрол', 'территориальн', 'дефицит', 'наблюда'])],\n",
       "      dtype=object)"
      ]
     },
     "metadata": {},
     "execution_count": 18
    }
   ],
   "source": [
    "prediction_df[prediction_df.id == 35].stemmed_words.values"
   ]
  },
  {
   "cell_type": "code",
   "execution_count": null,
   "metadata": {},
   "outputs": [],
   "source": []
  }
 ]
}