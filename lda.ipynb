{
 "metadata": {
  "language_info": {
   "codemirror_mode": {
    "name": "ipython",
    "version": 3
   },
   "file_extension": ".py",
   "mimetype": "text/x-python",
   "name": "python",
   "nbconvert_exporter": "python",
   "pygments_lexer": "ipython3",
   "version": "3.9.2"
  },
  "orig_nbformat": 2,
  "kernelspec": {
   "name": "pythonjvsc74a57bd0b8f6c780520b3a2223f94b05dfb66954813f1093502025e1d2255853062156d1",
   "display_name": "Python 3.9.2  ('.venv': venv)"
  },
  "metadata": {
   "interpreter": {
    "hash": "b8f6c780520b3a2223f94b05dfb66954813f1093502025e1d2255853062156d1"
   }
  }
 },
 "nbformat": 4,
 "nbformat_minor": 2,
 "cells": [
  {
   "source": [
    "### Импорты"
   ],
   "cell_type": "markdown",
   "metadata": {}
  },
  {
   "cell_type": "code",
   "execution_count": 1,
   "metadata": {},
   "outputs": [],
   "source": [
    "from LDANewsModel import LDANewsModel\n",
    "from pyspark import SparkContext\n",
    "from pyspark.sql import DataFrame, SparkSession\n",
    "\n",
    "import matplotlib.pyplot as plt\n",
    "import pandas as pd\n",
    "import numpy as np"
   ]
  },
  {
   "source": [
    "### Сессия Spark"
   ],
   "cell_type": "markdown",
   "metadata": {}
  },
  {
   "cell_type": "code",
   "execution_count": 2,
   "metadata": {},
   "outputs": [],
   "source": [
    "sc = SparkContext('local[12]', 'LDAModel')\n",
    "spark = SparkSession(sparkContext=sc)"
   ]
  },
  {
   "source": [
    "# LDA на экономических новостях"
   ],
   "cell_type": "markdown",
   "metadata": {}
  },
  {
   "source": [
    "## Загружаем данные"
   ],
   "cell_type": "markdown",
   "metadata": {}
  },
  {
   "cell_type": "code",
   "execution_count": 3,
   "metadata": {},
   "outputs": [
    {
     "output_type": "stream",
     "name": "stdout",
     "text": [
      "+------+--------------------+\n|    id|                text|\n+------+--------------------+\n|129268|\nМОСКВА, 10 мар —...|\n| 12026|МОСКВА, 28 янв - ...|\n| 36225|МОСКВА, 23 мая — ...|\n|125263|\nМОСКВА, 10 апр —...|\n| 43266|\nМОСКВА, 29 ноя —...|\n| 52730|\nС.-ПЕТЕРБУРГ, 16...|\n|128952|\nМОСКВА, 12 мар —...|\n| 90170|\nМОСКВА, 19 апр —...|\n| 47686|\nМОСКВА, 29 авг —...|\n| 35258|\nМОСКВА, 5 июн — ...|\n+------+--------------------+\nonly showing top 10 rows\n\n"
     ]
    }
   ],
   "source": [
    "news_data = spark.read.parquet('data/russian_news.parquet').repartition(12).cache()\n",
    "news_data.show(10)"
   ]
  },
  {
   "source": [
    "## LDA модель\n"
   ],
   "cell_type": "markdown",
   "metadata": {}
  },
  {
   "cell_type": "code",
   "execution_count": 4,
   "metadata": {},
   "outputs": [],
   "source": [
    "lda_model = LDANewsModel(news_data)\n",
    "lda_results, vocab_model, predictions = lda_model.fit_predict()"
   ]
  },
  {
   "source": [
    "Смотрим, что получилось"
   ],
   "cell_type": "markdown",
   "metadata": {}
  },
  {
   "cell_type": "code",
   "execution_count": 5,
   "metadata": {},
   "outputs": [
    {
     "output_type": "stream",
     "name": "stdout",
     "text": [
      "+-----+--------------------+--------------------+\n|topic|         termIndices|         termWeights|\n+-----+--------------------+--------------------+\n|    0|[26, 50, 32, 73, ...|[0.01794294330264...|\n|    1|[2, 19, 66, 117, ...|[0.01069154561041...|\n|    2|[25, 44, 51, 101,...|[0.01012439652392...|\n|    3|[16, 13, 81, 104,...|[0.00642517037704...|\n|    4|[0, 6, 42, 18, 3,...|[0.00754060413273...|\n+-----+--------------------+--------------------+\n\nТема 1\n----------------\nиндекс\nбаррел\nпункт\nторг\nрубл\nвалют\nаналитик\nакц\nдоллар\nдобыч\nммвб\nкурс\nцен\nпрогноз\nсниз\n----------------\nТема 2\n----------------\nсостав\nставк\nдоход\nинфляц\nминфин\nгод\nбюджет\nтриллион\nперв\nкредит\nпрогноз\nкредитн\nналогов\nувелич\nсниз\n----------------\nТема 3\n----------------\nукраин\nпоставк\nросс\nкрым\nэкономическ\nгазпр\nгаз\nтовар\nсоглашен\nроссийск\nпоток\nпереговор\nгазпром\nукраинск\nпоставок\n----------------\nТема 4\n----------------\nстроительств\nпредприят\nсуд\nроснефт\nкрупн\nзавод\nгрупп\nоа\nнов\nдиректор\nперв\nавиакомпан\nодн\nкотор\nактив\n----------------\nТема 5\n----------------\nтак\nнаш\nфорум\nрегион\nэкономическ\nэт\nсам\nпрограмм\nфинансов\nподдержк\nвопрос\nнов\nмеждународн\nсво\nодн\n----------------\n"
     ]
    }
   ],
   "source": [
    "topics = lda_results.describeTopics(maxTermsPerTopic=15)\n",
    "vocabulary = vocab_model.vocabulary\n",
    "topics.show()\n",
    "topics_rdd = topics.rdd\n",
    "topics_words = topics_rdd.map(lambda row: row['termIndices']).map(\n",
    "    lambda idx_list: [vocabulary[idx] for idx in idx_list]\n",
    ").collect()\n",
    "\n",
    "for idx, topic in enumerate(topics_words):\n",
    "    print(f'Тема {idx + 1}')\n",
    "    print('----------------')\n",
    "    for word in topic:\n",
    "        print(word)\n",
    "    print('----------------')"
   ]
  },
  {
   "source": [
    "## Сохраняем модель"
   ],
   "cell_type": "markdown",
   "metadata": {}
  },
  {
   "cell_type": "code",
   "execution_count": 6,
   "metadata": {},
   "outputs": [],
   "source": [
    "predictions.select('*').repartition(1).write.parquet('predictions.parquet', mode='overwrite', compression='GZIP')"
   ]
  },
  {
   "cell_type": "code",
   "execution_count": 11,
   "metadata": {},
   "outputs": [],
   "source": [
    "predictions_df = pd.read_parquet('predictions.parquet/part-00000-32be9d25-345b-4227-8f14-3c0c5da52977-c000.gz.parquet')[['id', 'stemmed_words','topicDistribution.values']]\n",
    "predictions_df['predicted_topic'] = predictions_df['topicDistribution.values'].map(np.argmax)"
   ]
  },
  {
   "cell_type": "code",
   "execution_count": 12,
   "metadata": {},
   "outputs": [
    {
     "output_type": "execute_result",
     "data": {
      "text/plain": [
       "            id                                               text\n",
       "0            1  МОСКВА, 17 ноября/ Радио Sputnik. Белоруссия р...\n",
       "1            3  ДУБАЙ, 17 ноя - РИА Новости. Министр промышлен...\n",
       "2            4  МИНСК, 17 ноя - РИА Новости. Белоруссия рассчи...\n",
       "3            5  МИНСК, 17 ноя — РИА Новости. Напряженные отнош...\n",
       "4            6  МОСКВА, 17 ноя — РИА Новости. Эксперт по финан...\n",
       "...        ...                                                ...\n",
       "104842  181653  Премьер-министр РФ Дмитрий Медведев считает, ч...\n",
       "104843  181765  Госдума ратифицировала протокол о присоединени...\n",
       "104844  182043  На встрече Путина и Титова речь шла о внесении...\n",
       "104845  182433  Президент РФ Владимир Путин 28 июня представил...\n",
       "104846  182434  Президент РФ Владимир Путин 28 июня представил...\n",
       "\n",
       "[104847 rows x 2 columns]"
      ],
      "text/html": "<div>\n<style scoped>\n    .dataframe tbody tr th:only-of-type {\n        vertical-align: middle;\n    }\n\n    .dataframe tbody tr th {\n        vertical-align: top;\n    }\n\n    .dataframe thead th {\n        text-align: right;\n    }\n</style>\n<table border=\"1\" class=\"dataframe\">\n  <thead>\n    <tr style=\"text-align: right;\">\n      <th></th>\n      <th>id</th>\n      <th>text</th>\n    </tr>\n  </thead>\n  <tbody>\n    <tr>\n      <th>0</th>\n      <td>1</td>\n      <td>МОСКВА, 17 ноября/ Радио Sputnik. Белоруссия р...</td>\n    </tr>\n    <tr>\n      <th>1</th>\n      <td>3</td>\n      <td>ДУБАЙ, 17 ноя - РИА Новости. Министр промышлен...</td>\n    </tr>\n    <tr>\n      <th>2</th>\n      <td>4</td>\n      <td>МИНСК, 17 ноя - РИА Новости. Белоруссия рассчи...</td>\n    </tr>\n    <tr>\n      <th>3</th>\n      <td>5</td>\n      <td>МИНСК, 17 ноя — РИА Новости. Напряженные отнош...</td>\n    </tr>\n    <tr>\n      <th>4</th>\n      <td>6</td>\n      <td>МОСКВА, 17 ноя — РИА Новости. Эксперт по финан...</td>\n    </tr>\n    <tr>\n      <th>...</th>\n      <td>...</td>\n      <td>...</td>\n    </tr>\n    <tr>\n      <th>104842</th>\n      <td>181653</td>\n      <td>Премьер-министр РФ Дмитрий Медведев считает, ч...</td>\n    </tr>\n    <tr>\n      <th>104843</th>\n      <td>181765</td>\n      <td>Госдума ратифицировала протокол о присоединени...</td>\n    </tr>\n    <tr>\n      <th>104844</th>\n      <td>182043</td>\n      <td>На встрече Путина и Титова речь шла о внесении...</td>\n    </tr>\n    <tr>\n      <th>104845</th>\n      <td>182433</td>\n      <td>Президент РФ Владимир Путин 28 июня представил...</td>\n    </tr>\n    <tr>\n      <th>104846</th>\n      <td>182434</td>\n      <td>Президент РФ Владимир Путин 28 июня представил...</td>\n    </tr>\n  </tbody>\n</table>\n<p>104847 rows × 2 columns</p>\n</div>"
     },
     "metadata": {},
     "execution_count": 12
    }
   ],
   "source": [
    "inflation_df = pd.read_csv('data/russian_frame.csv')[['id', 'text']]\n",
    "inflation_df"
   ]
  },
  {
   "cell_type": "code",
   "execution_count": 13,
   "metadata": {},
   "outputs": [],
   "source": [
    "def check_inflation(text):\n",
    "    if 'рост цен' in text:\n",
    "        return 1\n",
    "    else:\n",
    "        return 0\n",
    "inflation_df['related'] = inflation_df.text.map(check_inflation)"
   ]
  },
  {
   "cell_type": "code",
   "execution_count": 14,
   "metadata": {},
   "outputs": [
    {
     "output_type": "execute_result",
     "data": {
      "text/plain": [
       "            id                                               text  related\n",
       "26          35  МОСКВА, 15 ноя - РИА Новости. Федеральная анти...        1\n",
       "117        171  МОСКВА, 13 ноя - РИА Новости. Росстат продолжа...        1\n",
       "172        261  МОСКВА, 12 ноя - РИА Новости. Дефицита гречихи...        1\n",
       "270        446  МОСКВА, 7 ноя - РИА Новости. Укрепление рубля ...        1\n",
       "272        450  МОСКВА, 7 ноя - РИА Новости. Федеральная антим...        1\n",
       "...        ...                                                ...      ...\n",
       "104405  177281  \\nБЛАГОВЕЩЕНСК, 30 окт - РИА Новости, Светлана...        1\n",
       "104455  177373  \\nМОСКВА, 26 окт - РИА Новости. Индекс цен про...        1\n",
       "104604  177612  \\nМОСКВА, 23 окт - РИА Новости. Государственны...        1\n",
       "104653  177702  \\nМОСКВА, 19 окт - РИА Новости. Стоимость прое...        1\n",
       "104779  178395  \\nМОСКВА, 2 окт - РИА Новости. Президент РФ Вл...        1\n",
       "\n",
       "[1232 rows x 3 columns]"
      ],
      "text/html": "<div>\n<style scoped>\n    .dataframe tbody tr th:only-of-type {\n        vertical-align: middle;\n    }\n\n    .dataframe tbody tr th {\n        vertical-align: top;\n    }\n\n    .dataframe thead th {\n        text-align: right;\n    }\n</style>\n<table border=\"1\" class=\"dataframe\">\n  <thead>\n    <tr style=\"text-align: right;\">\n      <th></th>\n      <th>id</th>\n      <th>text</th>\n      <th>related</th>\n    </tr>\n  </thead>\n  <tbody>\n    <tr>\n      <th>26</th>\n      <td>35</td>\n      <td>МОСКВА, 15 ноя - РИА Новости. Федеральная анти...</td>\n      <td>1</td>\n    </tr>\n    <tr>\n      <th>117</th>\n      <td>171</td>\n      <td>МОСКВА, 13 ноя - РИА Новости. Росстат продолжа...</td>\n      <td>1</td>\n    </tr>\n    <tr>\n      <th>172</th>\n      <td>261</td>\n      <td>МОСКВА, 12 ноя - РИА Новости. Дефицита гречихи...</td>\n      <td>1</td>\n    </tr>\n    <tr>\n      <th>270</th>\n      <td>446</td>\n      <td>МОСКВА, 7 ноя - РИА Новости. Укрепление рубля ...</td>\n      <td>1</td>\n    </tr>\n    <tr>\n      <th>272</th>\n      <td>450</td>\n      <td>МОСКВА, 7 ноя - РИА Новости. Федеральная антим...</td>\n      <td>1</td>\n    </tr>\n    <tr>\n      <th>...</th>\n      <td>...</td>\n      <td>...</td>\n      <td>...</td>\n    </tr>\n    <tr>\n      <th>104405</th>\n      <td>177281</td>\n      <td>\\nБЛАГОВЕЩЕНСК, 30 окт - РИА Новости, Светлана...</td>\n      <td>1</td>\n    </tr>\n    <tr>\n      <th>104455</th>\n      <td>177373</td>\n      <td>\\nМОСКВА, 26 окт - РИА Новости. Индекс цен про...</td>\n      <td>1</td>\n    </tr>\n    <tr>\n      <th>104604</th>\n      <td>177612</td>\n      <td>\\nМОСКВА, 23 окт - РИА Новости. Государственны...</td>\n      <td>1</td>\n    </tr>\n    <tr>\n      <th>104653</th>\n      <td>177702</td>\n      <td>\\nМОСКВА, 19 окт - РИА Новости. Стоимость прое...</td>\n      <td>1</td>\n    </tr>\n    <tr>\n      <th>104779</th>\n      <td>178395</td>\n      <td>\\nМОСКВА, 2 окт - РИА Новости. Президент РФ Вл...</td>\n      <td>1</td>\n    </tr>\n  </tbody>\n</table>\n<p>1232 rows × 3 columns</p>\n</div>"
     },
     "metadata": {},
     "execution_count": 14
    }
   ],
   "source": [
    "inflation_df[inflation_df.related == 1]"
   ]
  },
  {
   "cell_type": "code",
   "execution_count": 15,
   "metadata": {},
   "outputs": [],
   "source": [
    "test = inflation_df.merge(predictions_df[['id', 'predicted_topic']], on='id', how='left')"
   ]
  },
  {
   "cell_type": "code",
   "execution_count": 16,
   "metadata": {},
   "outputs": [
    {
     "output_type": "execute_result",
     "data": {
      "text/plain": [
       "1    669\n",
       "4    218\n",
       "0    165\n",
       "2    127\n",
       "3     53\n",
       "Name: predicted_topic, dtype: int64"
      ]
     },
     "metadata": {},
     "execution_count": 16
    }
   ],
   "source": [
    "test[test.related == 1].predicted_topic.value_counts()"
   ]
  },
  {
   "cell_type": "code",
   "execution_count": 22,
   "metadata": {},
   "outputs": [
    {
     "output_type": "execute_result",
     "data": {
      "text/plain": [
       "<AxesSubplot:>"
      ]
     },
     "metadata": {},
     "execution_count": 22
    },
    {
     "output_type": "display_data",
     "data": {
      "text/plain": "<Figure size 432x288 with 1 Axes>",
      "image/svg+xml": "<?xml version=\"1.0\" encoding=\"utf-8\" standalone=\"no\"?>\n<!DOCTYPE svg PUBLIC \"-//W3C//DTD SVG 1.1//EN\"\n  \"http://www.w3.org/Graphics/SVG/1.1/DTD/svg11.dtd\">\n<svg height=\"251.558958pt\" version=\"1.1\" viewBox=\"0 0 375.2875 251.558958\" width=\"375.2875pt\" xmlns=\"http://www.w3.org/2000/svg\" xmlns:xlink=\"http://www.w3.org/1999/xlink\">\n <metadata>\n  <rdf:RDF xmlns:cc=\"http://creativecommons.org/ns#\" xmlns:dc=\"http://purl.org/dc/elements/1.1/\" xmlns:rdf=\"http://www.w3.org/1999/02/22-rdf-syntax-ns#\">\n   <cc:Work>\n    <dc:type rdf:resource=\"http://purl.org/dc/dcmitype/StillImage\"/>\n    <dc:date>2021-04-11T17:02:51.455697</dc:date>\n    <dc:format>image/svg+xml</dc:format>\n    <dc:creator>\n     <cc:Agent>\n      <dc:title>Matplotlib v3.4.1, https://matplotlib.org/</dc:title>\n     </cc:Agent>\n    </dc:creator>\n   </cc:Work>\n  </rdf:RDF>\n </metadata>\n <defs>\n  <style type=\"text/css\">*{stroke-linecap:butt;stroke-linejoin:round;}</style>\n </defs>\n <g id=\"figure_1\">\n  <g id=\"patch_1\">\n   <path d=\"M 0 251.558958 \nL 375.2875 251.558958 \nL 375.2875 0 \nL 0 0 \nz\n\" style=\"fill:none;\"/>\n  </g>\n  <g id=\"axes_1\">\n   <g id=\"patch_2\">\n    <path d=\"M 33.2875 227.680833 \nL 368.0875 227.680833 \nL 368.0875 10.240833 \nL 33.2875 10.240833 \nz\n\" style=\"fill:#ffffff;\"/>\n   </g>\n   <g id=\"patch_3\">\n    <path clip-path=\"url(#pd4a5971cb3)\" d=\"M 48.505682 227.680833 \nL 78.942045 227.680833 \nL 78.942045 176.605881 \nL 48.505682 176.605881 \nz\n\" style=\"fill:#1f77b4;\"/>\n   </g>\n   <g id=\"patch_4\">\n    <path clip-path=\"url(#pd4a5971cb3)\" d=\"M 78.942045 227.680833 \nL 109.378409 227.680833 \nL 109.378409 227.680833 \nL 78.942045 227.680833 \nz\n\" style=\"fill:#1f77b4;\"/>\n   </g>\n   <g id=\"patch_5\">\n    <path clip-path=\"url(#pd4a5971cb3)\" d=\"M 109.378409 227.680833 \nL 139.814773 227.680833 \nL 139.814773 20.595119 \nL 109.378409 20.595119 \nz\n\" style=\"fill:#1f77b4;\"/>\n   </g>\n   <g id=\"patch_6\">\n    <path clip-path=\"url(#pd4a5971cb3)\" d=\"M 139.814773 227.680833 \nL 170.251136 227.680833 \nL 170.251136 227.680833 \nL 139.814773 227.680833 \nz\n\" style=\"fill:#1f77b4;\"/>\n   </g>\n   <g id=\"patch_7\">\n    <path clip-path=\"url(#pd4a5971cb3)\" d=\"M 170.251136 227.680833 \nL 200.6875 227.680833 \nL 200.6875 227.680833 \nL 170.251136 227.680833 \nz\n\" style=\"fill:#1f77b4;\"/>\n   </g>\n   <g id=\"patch_8\">\n    <path clip-path=\"url(#pd4a5971cb3)\" d=\"M 200.6875 227.680833 \nL 231.123864 227.680833 \nL 231.123864 188.368597 \nL 200.6875 188.368597 \nz\n\" style=\"fill:#1f77b4;\"/>\n   </g>\n   <g id=\"patch_9\">\n    <path clip-path=\"url(#pd4a5971cb3)\" d=\"M 231.123864 227.680833 \nL 261.560227 227.680833 \nL 261.560227 227.680833 \nL 231.123864 227.680833 \nz\n\" style=\"fill:#1f77b4;\"/>\n   </g>\n   <g id=\"patch_10\">\n    <path clip-path=\"url(#pd4a5971cb3)\" d=\"M 261.560227 227.680833 \nL 291.996591 227.680833 \nL 291.996591 211.274939 \nL 261.560227 211.274939 \nz\n\" style=\"fill:#1f77b4;\"/>\n   </g>\n   <g id=\"patch_11\">\n    <path clip-path=\"url(#pd4a5971cb3)\" d=\"M 291.996591 227.680833 \nL 322.432955 227.680833 \nL 322.432955 227.680833 \nL 291.996591 227.680833 \nz\n\" style=\"fill:#1f77b4;\"/>\n   </g>\n   <g id=\"patch_12\">\n    <path clip-path=\"url(#pd4a5971cb3)\" d=\"M 322.432955 227.680833 \nL 352.869318 227.680833 \nL 352.869318 160.199987 \nL 322.432955 160.199987 \nz\n\" style=\"fill:#1f77b4;\"/>\n   </g>\n   <g id=\"matplotlib.axis_1\">\n    <g id=\"xtick_1\">\n     <g id=\"line2d_1\">\n      <path clip-path=\"url(#pd4a5971cb3)\" d=\"M 48.505682 227.680833 \nL 48.505682 10.240833 \n\" style=\"fill:none;stroke:#b0b0b0;stroke-linecap:square;stroke-width:0.8;\"/>\n     </g>\n     <g id=\"line2d_2\">\n      <defs>\n       <path d=\"M 0 0 \nL 0 3.5 \n\" id=\"m9a7d7df268\" style=\"stroke:#000000;stroke-width:0.8;\"/>\n      </defs>\n      <g>\n       <use style=\"stroke:#000000;stroke-width:0.8;\" x=\"48.505682\" xlink:href=\"#m9a7d7df268\" y=\"227.680833\"/>\n      </g>\n     </g>\n     <g id=\"text_1\">\n      <!-- 0.0 -->\n      <g transform=\"translate(40.554119 242.279271)scale(0.1 -0.1)\">\n       <defs>\n        <path d=\"M 2034 4250 \nQ 1547 4250 1301 3770 \nQ 1056 3291 1056 2328 \nQ 1056 1369 1301 889 \nQ 1547 409 2034 409 \nQ 2525 409 2770 889 \nQ 3016 1369 3016 2328 \nQ 3016 3291 2770 3770 \nQ 2525 4250 2034 4250 \nz\nM 2034 4750 \nQ 2819 4750 3233 4129 \nQ 3647 3509 3647 2328 \nQ 3647 1150 3233 529 \nQ 2819 -91 2034 -91 \nQ 1250 -91 836 529 \nQ 422 1150 422 2328 \nQ 422 3509 836 4129 \nQ 1250 4750 2034 4750 \nz\n\" id=\"DejaVuSans-30\" transform=\"scale(0.015625)\"/>\n        <path d=\"M 684 794 \nL 1344 794 \nL 1344 0 \nL 684 0 \nL 684 794 \nz\n\" id=\"DejaVuSans-2e\" transform=\"scale(0.015625)\"/>\n       </defs>\n       <use xlink:href=\"#DejaVuSans-30\"/>\n       <use x=\"63.623047\" xlink:href=\"#DejaVuSans-2e\"/>\n       <use x=\"95.410156\" xlink:href=\"#DejaVuSans-30\"/>\n      </g>\n     </g>\n    </g>\n    <g id=\"xtick_2\">\n     <g id=\"line2d_3\">\n      <path clip-path=\"url(#pd4a5971cb3)\" d=\"M 86.551136 227.680833 \nL 86.551136 10.240833 \n\" style=\"fill:none;stroke:#b0b0b0;stroke-linecap:square;stroke-width:0.8;\"/>\n     </g>\n     <g id=\"line2d_4\">\n      <g>\n       <use style=\"stroke:#000000;stroke-width:0.8;\" x=\"86.551136\" xlink:href=\"#m9a7d7df268\" y=\"227.680833\"/>\n      </g>\n     </g>\n     <g id=\"text_2\">\n      <!-- 0.5 -->\n      <g transform=\"translate(78.599574 242.279271)scale(0.1 -0.1)\">\n       <defs>\n        <path d=\"M 691 4666 \nL 3169 4666 \nL 3169 4134 \nL 1269 4134 \nL 1269 2991 \nQ 1406 3038 1543 3061 \nQ 1681 3084 1819 3084 \nQ 2600 3084 3056 2656 \nQ 3513 2228 3513 1497 \nQ 3513 744 3044 326 \nQ 2575 -91 1722 -91 \nQ 1428 -91 1123 -41 \nQ 819 9 494 109 \nL 494 744 \nQ 775 591 1075 516 \nQ 1375 441 1709 441 \nQ 2250 441 2565 725 \nQ 2881 1009 2881 1497 \nQ 2881 1984 2565 2268 \nQ 2250 2553 1709 2553 \nQ 1456 2553 1204 2497 \nQ 953 2441 691 2322 \nL 691 4666 \nz\n\" id=\"DejaVuSans-35\" transform=\"scale(0.015625)\"/>\n       </defs>\n       <use xlink:href=\"#DejaVuSans-30\"/>\n       <use x=\"63.623047\" xlink:href=\"#DejaVuSans-2e\"/>\n       <use x=\"95.410156\" xlink:href=\"#DejaVuSans-35\"/>\n      </g>\n     </g>\n    </g>\n    <g id=\"xtick_3\">\n     <g id=\"line2d_5\">\n      <path clip-path=\"url(#pd4a5971cb3)\" d=\"M 124.596591 227.680833 \nL 124.596591 10.240833 \n\" style=\"fill:none;stroke:#b0b0b0;stroke-linecap:square;stroke-width:0.8;\"/>\n     </g>\n     <g id=\"line2d_6\">\n      <g>\n       <use style=\"stroke:#000000;stroke-width:0.8;\" x=\"124.596591\" xlink:href=\"#m9a7d7df268\" y=\"227.680833\"/>\n      </g>\n     </g>\n     <g id=\"text_3\">\n      <!-- 1.0 -->\n      <g transform=\"translate(116.645028 242.279271)scale(0.1 -0.1)\">\n       <defs>\n        <path d=\"M 794 531 \nL 1825 531 \nL 1825 4091 \nL 703 3866 \nL 703 4441 \nL 1819 4666 \nL 2450 4666 \nL 2450 531 \nL 3481 531 \nL 3481 0 \nL 794 0 \nL 794 531 \nz\n\" id=\"DejaVuSans-31\" transform=\"scale(0.015625)\"/>\n       </defs>\n       <use xlink:href=\"#DejaVuSans-31\"/>\n       <use x=\"63.623047\" xlink:href=\"#DejaVuSans-2e\"/>\n       <use x=\"95.410156\" xlink:href=\"#DejaVuSans-30\"/>\n      </g>\n     </g>\n    </g>\n    <g id=\"xtick_4\">\n     <g id=\"line2d_7\">\n      <path clip-path=\"url(#pd4a5971cb3)\" d=\"M 162.642045 227.680833 \nL 162.642045 10.240833 \n\" style=\"fill:none;stroke:#b0b0b0;stroke-linecap:square;stroke-width:0.8;\"/>\n     </g>\n     <g id=\"line2d_8\">\n      <g>\n       <use style=\"stroke:#000000;stroke-width:0.8;\" x=\"162.642045\" xlink:href=\"#m9a7d7df268\" y=\"227.680833\"/>\n      </g>\n     </g>\n     <g id=\"text_4\">\n      <!-- 1.5 -->\n      <g transform=\"translate(154.690483 242.279271)scale(0.1 -0.1)\">\n       <use xlink:href=\"#DejaVuSans-31\"/>\n       <use x=\"63.623047\" xlink:href=\"#DejaVuSans-2e\"/>\n       <use x=\"95.410156\" xlink:href=\"#DejaVuSans-35\"/>\n      </g>\n     </g>\n    </g>\n    <g id=\"xtick_5\">\n     <g id=\"line2d_9\">\n      <path clip-path=\"url(#pd4a5971cb3)\" d=\"M 200.6875 227.680833 \nL 200.6875 10.240833 \n\" style=\"fill:none;stroke:#b0b0b0;stroke-linecap:square;stroke-width:0.8;\"/>\n     </g>\n     <g id=\"line2d_10\">\n      <g>\n       <use style=\"stroke:#000000;stroke-width:0.8;\" x=\"200.6875\" xlink:href=\"#m9a7d7df268\" y=\"227.680833\"/>\n      </g>\n     </g>\n     <g id=\"text_5\">\n      <!-- 2.0 -->\n      <g transform=\"translate(192.735938 242.279271)scale(0.1 -0.1)\">\n       <defs>\n        <path d=\"M 1228 531 \nL 3431 531 \nL 3431 0 \nL 469 0 \nL 469 531 \nQ 828 903 1448 1529 \nQ 2069 2156 2228 2338 \nQ 2531 2678 2651 2914 \nQ 2772 3150 2772 3378 \nQ 2772 3750 2511 3984 \nQ 2250 4219 1831 4219 \nQ 1534 4219 1204 4116 \nQ 875 4013 500 3803 \nL 500 4441 \nQ 881 4594 1212 4672 \nQ 1544 4750 1819 4750 \nQ 2544 4750 2975 4387 \nQ 3406 4025 3406 3419 \nQ 3406 3131 3298 2873 \nQ 3191 2616 2906 2266 \nQ 2828 2175 2409 1742 \nQ 1991 1309 1228 531 \nz\n\" id=\"DejaVuSans-32\" transform=\"scale(0.015625)\"/>\n       </defs>\n       <use xlink:href=\"#DejaVuSans-32\"/>\n       <use x=\"63.623047\" xlink:href=\"#DejaVuSans-2e\"/>\n       <use x=\"95.410156\" xlink:href=\"#DejaVuSans-30\"/>\n      </g>\n     </g>\n    </g>\n    <g id=\"xtick_6\">\n     <g id=\"line2d_11\">\n      <path clip-path=\"url(#pd4a5971cb3)\" d=\"M 238.732955 227.680833 \nL 238.732955 10.240833 \n\" style=\"fill:none;stroke:#b0b0b0;stroke-linecap:square;stroke-width:0.8;\"/>\n     </g>\n     <g id=\"line2d_12\">\n      <g>\n       <use style=\"stroke:#000000;stroke-width:0.8;\" x=\"238.732955\" xlink:href=\"#m9a7d7df268\" y=\"227.680833\"/>\n      </g>\n     </g>\n     <g id=\"text_6\">\n      <!-- 2.5 -->\n      <g transform=\"translate(230.781392 242.279271)scale(0.1 -0.1)\">\n       <use xlink:href=\"#DejaVuSans-32\"/>\n       <use x=\"63.623047\" xlink:href=\"#DejaVuSans-2e\"/>\n       <use x=\"95.410156\" xlink:href=\"#DejaVuSans-35\"/>\n      </g>\n     </g>\n    </g>\n    <g id=\"xtick_7\">\n     <g id=\"line2d_13\">\n      <path clip-path=\"url(#pd4a5971cb3)\" d=\"M 276.778409 227.680833 \nL 276.778409 10.240833 \n\" style=\"fill:none;stroke:#b0b0b0;stroke-linecap:square;stroke-width:0.8;\"/>\n     </g>\n     <g id=\"line2d_14\">\n      <g>\n       <use style=\"stroke:#000000;stroke-width:0.8;\" x=\"276.778409\" xlink:href=\"#m9a7d7df268\" y=\"227.680833\"/>\n      </g>\n     </g>\n     <g id=\"text_7\">\n      <!-- 3.0 -->\n      <g transform=\"translate(268.826847 242.279271)scale(0.1 -0.1)\">\n       <defs>\n        <path d=\"M 2597 2516 \nQ 3050 2419 3304 2112 \nQ 3559 1806 3559 1356 \nQ 3559 666 3084 287 \nQ 2609 -91 1734 -91 \nQ 1441 -91 1130 -33 \nQ 819 25 488 141 \nL 488 750 \nQ 750 597 1062 519 \nQ 1375 441 1716 441 \nQ 2309 441 2620 675 \nQ 2931 909 2931 1356 \nQ 2931 1769 2642 2001 \nQ 2353 2234 1838 2234 \nL 1294 2234 \nL 1294 2753 \nL 1863 2753 \nQ 2328 2753 2575 2939 \nQ 2822 3125 2822 3475 \nQ 2822 3834 2567 4026 \nQ 2313 4219 1838 4219 \nQ 1578 4219 1281 4162 \nQ 984 4106 628 3988 \nL 628 4550 \nQ 988 4650 1302 4700 \nQ 1616 4750 1894 4750 \nQ 2613 4750 3031 4423 \nQ 3450 4097 3450 3541 \nQ 3450 3153 3228 2886 \nQ 3006 2619 2597 2516 \nz\n\" id=\"DejaVuSans-33\" transform=\"scale(0.015625)\"/>\n       </defs>\n       <use xlink:href=\"#DejaVuSans-33\"/>\n       <use x=\"63.623047\" xlink:href=\"#DejaVuSans-2e\"/>\n       <use x=\"95.410156\" xlink:href=\"#DejaVuSans-30\"/>\n      </g>\n     </g>\n    </g>\n    <g id=\"xtick_8\">\n     <g id=\"line2d_15\">\n      <path clip-path=\"url(#pd4a5971cb3)\" d=\"M 314.823864 227.680833 \nL 314.823864 10.240833 \n\" style=\"fill:none;stroke:#b0b0b0;stroke-linecap:square;stroke-width:0.8;\"/>\n     </g>\n     <g id=\"line2d_16\">\n      <g>\n       <use style=\"stroke:#000000;stroke-width:0.8;\" x=\"314.823864\" xlink:href=\"#m9a7d7df268\" y=\"227.680833\"/>\n      </g>\n     </g>\n     <g id=\"text_8\">\n      <!-- 3.5 -->\n      <g transform=\"translate(306.872301 242.279271)scale(0.1 -0.1)\">\n       <use xlink:href=\"#DejaVuSans-33\"/>\n       <use x=\"63.623047\" xlink:href=\"#DejaVuSans-2e\"/>\n       <use x=\"95.410156\" xlink:href=\"#DejaVuSans-35\"/>\n      </g>\n     </g>\n    </g>\n    <g id=\"xtick_9\">\n     <g id=\"line2d_17\">\n      <path clip-path=\"url(#pd4a5971cb3)\" d=\"M 352.869318 227.680833 \nL 352.869318 10.240833 \n\" style=\"fill:none;stroke:#b0b0b0;stroke-linecap:square;stroke-width:0.8;\"/>\n     </g>\n     <g id=\"line2d_18\">\n      <g>\n       <use style=\"stroke:#000000;stroke-width:0.8;\" x=\"352.869318\" xlink:href=\"#m9a7d7df268\" y=\"227.680833\"/>\n      </g>\n     </g>\n     <g id=\"text_9\">\n      <!-- 4.0 -->\n      <g transform=\"translate(344.917756 242.279271)scale(0.1 -0.1)\">\n       <defs>\n        <path d=\"M 2419 4116 \nL 825 1625 \nL 2419 1625 \nL 2419 4116 \nz\nM 2253 4666 \nL 3047 4666 \nL 3047 1625 \nL 3713 1625 \nL 3713 1100 \nL 3047 1100 \nL 3047 0 \nL 2419 0 \nL 2419 1100 \nL 313 1100 \nL 313 1709 \nL 2253 4666 \nz\n\" id=\"DejaVuSans-34\" transform=\"scale(0.015625)\"/>\n       </defs>\n       <use xlink:href=\"#DejaVuSans-34\"/>\n       <use x=\"63.623047\" xlink:href=\"#DejaVuSans-2e\"/>\n       <use x=\"95.410156\" xlink:href=\"#DejaVuSans-30\"/>\n      </g>\n     </g>\n    </g>\n   </g>\n   <g id=\"matplotlib.axis_2\">\n    <g id=\"ytick_1\">\n     <g id=\"line2d_19\">\n      <path clip-path=\"url(#pd4a5971cb3)\" d=\"M 33.2875 227.680833 \nL 368.0875 227.680833 \n\" style=\"fill:none;stroke:#b0b0b0;stroke-linecap:square;stroke-width:0.8;\"/>\n     </g>\n     <g id=\"line2d_20\">\n      <defs>\n       <path d=\"M 0 0 \nL -3.5 0 \n\" id=\"m38ee2ae45f\" style=\"stroke:#000000;stroke-width:0.8;\"/>\n      </defs>\n      <g>\n       <use style=\"stroke:#000000;stroke-width:0.8;\" x=\"33.2875\" xlink:href=\"#m38ee2ae45f\" y=\"227.680833\"/>\n      </g>\n     </g>\n     <g id=\"text_10\">\n      <!-- 0 -->\n      <g transform=\"translate(19.925 231.480052)scale(0.1 -0.1)\">\n       <use xlink:href=\"#DejaVuSans-30\"/>\n      </g>\n     </g>\n    </g>\n    <g id=\"ytick_2\">\n     <g id=\"line2d_21\">\n      <path clip-path=\"url(#pd4a5971cb3)\" d=\"M 33.2875 196.726317 \nL 368.0875 196.726317 \n\" style=\"fill:none;stroke:#b0b0b0;stroke-linecap:square;stroke-width:0.8;\"/>\n     </g>\n     <g id=\"line2d_22\">\n      <g>\n       <use style=\"stroke:#000000;stroke-width:0.8;\" x=\"33.2875\" xlink:href=\"#m38ee2ae45f\" y=\"196.726317\"/>\n      </g>\n     </g>\n     <g id=\"text_11\">\n      <!-- 100 -->\n      <g transform=\"translate(7.2 200.525536)scale(0.1 -0.1)\">\n       <use xlink:href=\"#DejaVuSans-31\"/>\n       <use x=\"63.623047\" xlink:href=\"#DejaVuSans-30\"/>\n       <use x=\"127.246094\" xlink:href=\"#DejaVuSans-30\"/>\n      </g>\n     </g>\n    </g>\n    <g id=\"ytick_3\">\n     <g id=\"line2d_23\">\n      <path clip-path=\"url(#pd4a5971cb3)\" d=\"M 33.2875 165.7718 \nL 368.0875 165.7718 \n\" style=\"fill:none;stroke:#b0b0b0;stroke-linecap:square;stroke-width:0.8;\"/>\n     </g>\n     <g id=\"line2d_24\">\n      <g>\n       <use style=\"stroke:#000000;stroke-width:0.8;\" x=\"33.2875\" xlink:href=\"#m38ee2ae45f\" y=\"165.7718\"/>\n      </g>\n     </g>\n     <g id=\"text_12\">\n      <!-- 200 -->\n      <g transform=\"translate(7.2 169.571019)scale(0.1 -0.1)\">\n       <use xlink:href=\"#DejaVuSans-32\"/>\n       <use x=\"63.623047\" xlink:href=\"#DejaVuSans-30\"/>\n       <use x=\"127.246094\" xlink:href=\"#DejaVuSans-30\"/>\n      </g>\n     </g>\n    </g>\n    <g id=\"ytick_4\">\n     <g id=\"line2d_25\">\n      <path clip-path=\"url(#pd4a5971cb3)\" d=\"M 33.2875 134.817284 \nL 368.0875 134.817284 \n\" style=\"fill:none;stroke:#b0b0b0;stroke-linecap:square;stroke-width:0.8;\"/>\n     </g>\n     <g id=\"line2d_26\">\n      <g>\n       <use style=\"stroke:#000000;stroke-width:0.8;\" x=\"33.2875\" xlink:href=\"#m38ee2ae45f\" y=\"134.817284\"/>\n      </g>\n     </g>\n     <g id=\"text_13\">\n      <!-- 300 -->\n      <g transform=\"translate(7.2 138.616503)scale(0.1 -0.1)\">\n       <use xlink:href=\"#DejaVuSans-33\"/>\n       <use x=\"63.623047\" xlink:href=\"#DejaVuSans-30\"/>\n       <use x=\"127.246094\" xlink:href=\"#DejaVuSans-30\"/>\n      </g>\n     </g>\n    </g>\n    <g id=\"ytick_5\">\n     <g id=\"line2d_27\">\n      <path clip-path=\"url(#pd4a5971cb3)\" d=\"M 33.2875 103.862768 \nL 368.0875 103.862768 \n\" style=\"fill:none;stroke:#b0b0b0;stroke-linecap:square;stroke-width:0.8;\"/>\n     </g>\n     <g id=\"line2d_28\">\n      <g>\n       <use style=\"stroke:#000000;stroke-width:0.8;\" x=\"33.2875\" xlink:href=\"#m38ee2ae45f\" y=\"103.862768\"/>\n      </g>\n     </g>\n     <g id=\"text_14\">\n      <!-- 400 -->\n      <g transform=\"translate(7.2 107.661987)scale(0.1 -0.1)\">\n       <use xlink:href=\"#DejaVuSans-34\"/>\n       <use x=\"63.623047\" xlink:href=\"#DejaVuSans-30\"/>\n       <use x=\"127.246094\" xlink:href=\"#DejaVuSans-30\"/>\n      </g>\n     </g>\n    </g>\n    <g id=\"ytick_6\">\n     <g id=\"line2d_29\">\n      <path clip-path=\"url(#pd4a5971cb3)\" d=\"M 33.2875 72.908251 \nL 368.0875 72.908251 \n\" style=\"fill:none;stroke:#b0b0b0;stroke-linecap:square;stroke-width:0.8;\"/>\n     </g>\n     <g id=\"line2d_30\">\n      <g>\n       <use style=\"stroke:#000000;stroke-width:0.8;\" x=\"33.2875\" xlink:href=\"#m38ee2ae45f\" y=\"72.908251\"/>\n      </g>\n     </g>\n     <g id=\"text_15\">\n      <!-- 500 -->\n      <g transform=\"translate(7.2 76.70747)scale(0.1 -0.1)\">\n       <use xlink:href=\"#DejaVuSans-35\"/>\n       <use x=\"63.623047\" xlink:href=\"#DejaVuSans-30\"/>\n       <use x=\"127.246094\" xlink:href=\"#DejaVuSans-30\"/>\n      </g>\n     </g>\n    </g>\n    <g id=\"ytick_7\">\n     <g id=\"line2d_31\">\n      <path clip-path=\"url(#pd4a5971cb3)\" d=\"M 33.2875 41.953735 \nL 368.0875 41.953735 \n\" style=\"fill:none;stroke:#b0b0b0;stroke-linecap:square;stroke-width:0.8;\"/>\n     </g>\n     <g id=\"line2d_32\">\n      <g>\n       <use style=\"stroke:#000000;stroke-width:0.8;\" x=\"33.2875\" xlink:href=\"#m38ee2ae45f\" y=\"41.953735\"/>\n      </g>\n     </g>\n     <g id=\"text_16\">\n      <!-- 600 -->\n      <g transform=\"translate(7.2 45.752954)scale(0.1 -0.1)\">\n       <defs>\n        <path d=\"M 2113 2584 \nQ 1688 2584 1439 2293 \nQ 1191 2003 1191 1497 \nQ 1191 994 1439 701 \nQ 1688 409 2113 409 \nQ 2538 409 2786 701 \nQ 3034 994 3034 1497 \nQ 3034 2003 2786 2293 \nQ 2538 2584 2113 2584 \nz\nM 3366 4563 \nL 3366 3988 \nQ 3128 4100 2886 4159 \nQ 2644 4219 2406 4219 \nQ 1781 4219 1451 3797 \nQ 1122 3375 1075 2522 \nQ 1259 2794 1537 2939 \nQ 1816 3084 2150 3084 \nQ 2853 3084 3261 2657 \nQ 3669 2231 3669 1497 \nQ 3669 778 3244 343 \nQ 2819 -91 2113 -91 \nQ 1303 -91 875 529 \nQ 447 1150 447 2328 \nQ 447 3434 972 4092 \nQ 1497 4750 2381 4750 \nQ 2619 4750 2861 4703 \nQ 3103 4656 3366 4563 \nz\n\" id=\"DejaVuSans-36\" transform=\"scale(0.015625)\"/>\n       </defs>\n       <use xlink:href=\"#DejaVuSans-36\"/>\n       <use x=\"63.623047\" xlink:href=\"#DejaVuSans-30\"/>\n       <use x=\"127.246094\" xlink:href=\"#DejaVuSans-30\"/>\n      </g>\n     </g>\n    </g>\n    <g id=\"ytick_8\">\n     <g id=\"line2d_33\">\n      <path clip-path=\"url(#pd4a5971cb3)\" d=\"M 33.2875 10.999219 \nL 368.0875 10.999219 \n\" style=\"fill:none;stroke:#b0b0b0;stroke-linecap:square;stroke-width:0.8;\"/>\n     </g>\n     <g id=\"line2d_34\">\n      <g>\n       <use style=\"stroke:#000000;stroke-width:0.8;\" x=\"33.2875\" xlink:href=\"#m38ee2ae45f\" y=\"10.999219\"/>\n      </g>\n     </g>\n     <g id=\"text_17\">\n      <!-- 700 -->\n      <g transform=\"translate(7.2 14.798438)scale(0.1 -0.1)\">\n       <defs>\n        <path d=\"M 525 4666 \nL 3525 4666 \nL 3525 4397 \nL 1831 0 \nL 1172 0 \nL 2766 4134 \nL 525 4134 \nL 525 4666 \nz\n\" id=\"DejaVuSans-37\" transform=\"scale(0.015625)\"/>\n       </defs>\n       <use xlink:href=\"#DejaVuSans-37\"/>\n       <use x=\"63.623047\" xlink:href=\"#DejaVuSans-30\"/>\n       <use x=\"127.246094\" xlink:href=\"#DejaVuSans-30\"/>\n      </g>\n     </g>\n    </g>\n   </g>\n   <g id=\"patch_13\">\n    <path d=\"M 33.2875 227.680833 \nL 33.2875 10.240833 \n\" style=\"fill:none;stroke:#000000;stroke-linecap:square;stroke-linejoin:miter;stroke-width:0.8;\"/>\n   </g>\n   <g id=\"patch_14\">\n    <path d=\"M 368.0875 227.680833 \nL 368.0875 10.240833 \n\" style=\"fill:none;stroke:#000000;stroke-linecap:square;stroke-linejoin:miter;stroke-width:0.8;\"/>\n   </g>\n   <g id=\"patch_15\">\n    <path d=\"M 33.2875 227.680833 \nL 368.0875 227.680833 \n\" style=\"fill:none;stroke:#000000;stroke-linecap:square;stroke-linejoin:miter;stroke-width:0.8;\"/>\n   </g>\n   <g id=\"patch_16\">\n    <path d=\"M 33.2875 10.240833 \nL 368.0875 10.240833 \n\" style=\"fill:none;stroke:#000000;stroke-linecap:square;stroke-linejoin:miter;stroke-width:0.8;\"/>\n   </g>\n  </g>\n </g>\n <defs>\n  <clipPath id=\"pd4a5971cb3\">\n   <rect height=\"217.44\" width=\"334.8\" x=\"33.2875\" y=\"10.240833\"/>\n  </clipPath>\n </defs>\n</svg>\n",
      "image/png": "[encoded data removed]"
     },
     "metadata": {
      "needs_background": "light"
     }
    }
   ],
   "source": [
    "test[test.related == 1].predicted_topic.hist()"
   ]
  },
  {
   "cell_type": "code",
   "execution_count": 17,
   "metadata": {},
   "outputs": [
    {
     "output_type": "execute_result",
     "data": {
      "text/plain": [
       "       id                                               text  related  \\\n",
       "4       6  МОСКВА, 17 ноя — РИА Новости. Эксперт по финан...        0   \n",
       "10     12  МОСКВА, 17 ноя — РИА Новости. Россия прокладыв...        0   \n",
       "13     16  МОСКВА, 16 ноя — РИА Новости. В России упал сп...        0   \n",
       "16     20  МОСКВА, 16 ноя - РИА Новости. Россиянам для то...        0   \n",
       "36     48  МОСКВА, 15 ноя - РИА Новости. Депутат Андрей М...        0   \n",
       "56   4286  МОСКВА, 14 авг — РИА Новости. Рост потребитель...        0   \n",
       "68    112  МОСКВА, 14 ноя — РИА Новости. Замминистра фина...        0   \n",
       "85    130  МОСКВА, 14 ноя - РИА Новости. Последние два ме...        0   \n",
       "86    131  МОСКВА, 14 ноя - РИА Новости. Средний срок ипо...        0   \n",
       "117   171  МОСКВА, 13 ноя - РИА Новости. Росстат продолжа...        1   \n",
       "\n",
       "     predicted_topic  \n",
       "4                  1  \n",
       "10                 1  \n",
       "13                 1  \n",
       "16                 1  \n",
       "36                 1  \n",
       "56                 1  \n",
       "68                 1  \n",
       "85                 1  \n",
       "86                 1  \n",
       "117                1  "
      ],
      "text/html": "<div>\n<style scoped>\n    .dataframe tbody tr th:only-of-type {\n        vertical-align: middle;\n    }\n\n    .dataframe tbody tr th {\n        vertical-align: top;\n    }\n\n    .dataframe thead th {\n        text-align: right;\n    }\n</style>\n<table border=\"1\" class=\"dataframe\">\n  <thead>\n    <tr style=\"text-align: right;\">\n      <th></th>\n      <th>id</th>\n      <th>text</th>\n      <th>related</th>\n      <th>predicted_topic</th>\n    </tr>\n  </thead>\n  <tbody>\n    <tr>\n      <th>4</th>\n      <td>6</td>\n      <td>МОСКВА, 17 ноя — РИА Новости. Эксперт по финан...</td>\n      <td>0</td>\n      <td>1</td>\n    </tr>\n    <tr>\n      <th>10</th>\n      <td>12</td>\n      <td>МОСКВА, 17 ноя — РИА Новости. Россия прокладыв...</td>\n      <td>0</td>\n      <td>1</td>\n    </tr>\n    <tr>\n      <th>13</th>\n      <td>16</td>\n      <td>МОСКВА, 16 ноя — РИА Новости. В России упал сп...</td>\n      <td>0</td>\n      <td>1</td>\n    </tr>\n    <tr>\n      <th>16</th>\n      <td>20</td>\n      <td>МОСКВА, 16 ноя - РИА Новости. Россиянам для то...</td>\n      <td>0</td>\n      <td>1</td>\n    </tr>\n    <tr>\n      <th>36</th>\n      <td>48</td>\n      <td>МОСКВА, 15 ноя - РИА Новости. Депутат Андрей М...</td>\n      <td>0</td>\n      <td>1</td>\n    </tr>\n    <tr>\n      <th>56</th>\n      <td>4286</td>\n      <td>МОСКВА, 14 авг — РИА Новости. Рост потребитель...</td>\n      <td>0</td>\n      <td>1</td>\n    </tr>\n    <tr>\n      <th>68</th>\n      <td>112</td>\n      <td>МОСКВА, 14 ноя — РИА Новости. Замминистра фина...</td>\n      <td>0</td>\n      <td>1</td>\n    </tr>\n    <tr>\n      <th>85</th>\n      <td>130</td>\n      <td>МОСКВА, 14 ноя - РИА Новости. Последние два ме...</td>\n      <td>0</td>\n      <td>1</td>\n    </tr>\n    <tr>\n      <th>86</th>\n      <td>131</td>\n      <td>МОСКВА, 14 ноя - РИА Новости. Средний срок ипо...</td>\n      <td>0</td>\n      <td>1</td>\n    </tr>\n    <tr>\n      <th>117</th>\n      <td>171</td>\n      <td>МОСКВА, 13 ноя - РИА Новости. Росстат продолжа...</td>\n      <td>1</td>\n      <td>1</td>\n    </tr>\n  </tbody>\n</table>\n</div>"
     },
     "metadata": {},
     "execution_count": 17
    }
   ],
   "source": [
    "test[test.predicted_topic == 1].iloc[:10]"
   ]
  },
  {
   "cell_type": "code",
   "execution_count": 18,
   "metadata": {},
   "outputs": [
    {
     "output_type": "execute_result",
     "data": {
      "text/plain": [
       "array(['МОСКВА, 14 ноя — РИА Новости. Стоимость нового легкого самолета на замену кукурузника Ан-2 не должна превышать 120 миллионов рублей, а цена за час эксплуатации не должна быть больше 30 тысяч рублей, сообщает в четверг \"Уральский завод гражданской авиации\" (УЗГА).Конкурс на разработку этого самолета выиграла компания \"Байкал-Инжиниринг\", которая входит в состав УЗГА.\"Целевая стоимость самолета при серийном производстве не превышает 120 миллионов рублей в ценах 2020 года, а целевая себестоимость эксплуатации самолета в пересчете на летный час (без учета стоимости владения) — не более 30 тысяч рублей\", — говорится в релизе.В пресс-службе рассказали, что Минпромторг задал требования, по многим параметрам превосходящие аналогичные характеристики Ан-2, а именно: расчетная крейсерская скорость полета — не менее 300 километров в час, расчетная практическая дальность полета с максимальной коммерческой нагрузкой — две тонны и с аварийным навигационным запасом на 45 минут полета — не менее 1,5 тысячи километров.Максимальный взлетный вес нового самолета должен составить 4,8 тонны, планер должен состоять из материалов на основе алюминиевых сплавов, что облегчит его ремонт в полевых условиях и позволит хранить без ангара.Новый самолет, как предполагается, сможет перевозить девять пассажиров с возможностью увеличения в будущем до 12.Сам проект оценивается в 4,5 миллиарда рублей, включая типовую сертификацию.'],\n",
       "      dtype=object)"
      ]
     },
     "metadata": {},
     "execution_count": 18
    }
   ],
   "source": [
    "test[test.id == 119].text.values"
   ]
  },
  {
   "cell_type": "code",
   "execution_count": 20,
   "metadata": {},
   "outputs": [
    {
     "output_type": "execute_result",
     "data": {
      "text/plain": [
       "array([list(['федеральн', 'антимонопольн', 'фас', 'розничн', 'фас', 'андр', 'отвеч', 'соответств', 'указа', 'ведомств', 'вид', 'глобальн', 'пробл', 'дан', 'запас', 'плюс', 'урожа', 'полност', 'наш', 'потребн', 'никак', 'серьезн', 'пробл', 'должн', 'перв', 'втор', 'прежд', 'контрол', 'перв', 'плеч', 'производител', 'розниц', 'конкуренц', 'существ', 'люб', 'посмотрет', 'наскольк', 'замглав', 'фас', 'союз', 'предприят', 'рсмкп', 'опубликова', 'обращен', 'глав', 'фас', 'котор', 'происход', 'низк', 'текущ', 'антимонопольн', 'реш', 'провест', 'проверк', 'производител', 'фас', 'состоя', 'совещан', 'служб', 'представител', 'орган', 'управлен', 'апк', 'регион', 'ведомств', 'регион', 'основн', 'производител', 'культур', 'ситуац', 'наход', 'контрол', 'территориальн', 'дефицит', 'наблюда'])],\n",
       "      dtype=object)"
      ]
     },
     "metadata": {},
     "execution_count": 20
    }
   ],
   "source": [
    "predictions_df[predictions_df.id == 35].stemmed_words.values"
   ]
  },
  {
   "cell_type": "code",
   "execution_count": null,
   "metadata": {},
   "outputs": [],
   "source": []
  }
 ]
}